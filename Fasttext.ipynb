{
  "nbformat": 4,
  "nbformat_minor": 0,
  "metadata": {
    "colab": {
      "provenance": [],
      "include_colab_link": true
    },
    "kernelspec": {
      "name": "python3",
      "display_name": "Python 3"
    },
    "language_info": {
      "name": "python"
    }
  },
  "cells": [
    {
      "cell_type": "markdown",
      "metadata": {
        "id": "view-in-github",
        "colab_type": "text"
      },
      "source": [
        "<a href=\"https://colab.research.google.com/github/79AceVo/Text-analytics/blob/main/Fasttext.ipynb\" target=\"_parent\"><img src=\"https://colab.research.google.com/assets/colab-badge.svg\" alt=\"Open In Colab\"/></a>"
      ]
    },
    {
      "cell_type": "markdown",
      "source": [
        "# Word Embeddings using Fasttext\n"
      ],
      "metadata": {
        "id": "nsop3Rrqts3-"
      }
    },
    {
      "cell_type": "code",
      "source": [
        "import gensim.downloader as gen_api"
      ],
      "metadata": {
        "id": "siTp_wObnj3P"
      },
      "execution_count": null,
      "outputs": []
    },
    {
      "cell_type": "code",
      "source": [
        "#let's load Fasttext wiki news. 958MB\n",
        "fasttext = gen_api.load ('fasttext-wiki-news-subwords-300')"
      ],
      "metadata": {
        "id": "OYoHIFmTpQBS",
        "colab": {
          "base_uri": "https://localhost:8080/"
        },
        "outputId": "9c905924-7dc0-4339-b57e-cd6ce0f1179a"
      },
      "execution_count": null,
      "outputs": [
        {
          "output_type": "stream",
          "name": "stdout",
          "text": [
            "[==================================================] 100.0% 958.5/958.4MB downloaded\n"
          ]
        }
      ]
    },
    {
      "cell_type": "markdown",
      "source": [
        "After loading, let's see how they represent texts"
      ],
      "metadata": {
        "id": "rr31Msi6r3dS"
      }
    },
    {
      "cell_type": "code",
      "source": [
        "fasttext.most_similar(\"coffee\")"
      ],
      "metadata": {
        "id": "krELmvE6rw0Z",
        "colab": {
          "base_uri": "https://localhost:8080/"
        },
        "outputId": "f1b7d2ee-5c25-40c5-b600-b297338ec827"
      },
      "execution_count": null,
      "outputs": [
        {
          "output_type": "execute_result",
          "data": {
            "text/plain": [
              "[('coffees', 0.8029797673225403),\n",
              " ('coffeee', 0.769917368888855),\n",
              " ('non-coffee', 0.7645688056945801),\n",
              " ('tea', 0.7583761215209961),\n",
              " ('coffe', 0.7542307376861572),\n",
              " ('coffee-', 0.745168924331665),\n",
              " ('cappuccino', 0.7182677984237671),\n",
              " ('coffee.', 0.7153727412223816),\n",
              " ('decaf', 0.7138857841491699),\n",
              " ('coffee-making', 0.7045937776565552)]"
            ]
          },
          "metadata": {},
          "execution_count": 3
        }
      ]
    },
    {
      "cell_type": "code",
      "source": [
        "fasttext.distance(\"coffee\",\"cream\") #similar things should be closer"
      ],
      "metadata": {
        "id": "tzUAnbWjrwpy",
        "colab": {
          "base_uri": "https://localhost:8080/"
        },
        "outputId": "fb113405-8bad-4ecf-ab31-7d60c7ed93a4"
      },
      "execution_count": null,
      "outputs": [
        {
          "output_type": "execute_result",
          "data": {
            "text/plain": [
              "0.5422517955303192"
            ]
          },
          "metadata": {},
          "execution_count": 4
        }
      ]
    },
    {
      "cell_type": "code",
      "source": [
        "fasttext.distance(\"coffee\",\"basketball\") #diferrent things should be different"
      ],
      "metadata": {
        "id": "ip-fBcLMr90R",
        "colab": {
          "base_uri": "https://localhost:8080/"
        },
        "outputId": "68985015-ca7b-4e72-d27c-cf08d1adb69b"
      },
      "execution_count": null,
      "outputs": [
        {
          "output_type": "execute_result",
          "data": {
            "text/plain": [
              "0.6951381266117096"
            ]
          },
          "metadata": {},
          "execution_count": 5
        }
      ]
    },
    {
      "cell_type": "code",
      "source": [
        "#wanna try king - man + woman?\n",
        "fasttext.most_similar_cosmul(positive=['king','woman'], negative=['men']) #function on the most word that has similar cosine similarity, a similarity metric"
      ],
      "metadata": {
        "id": "ei2O4NiasID1",
        "colab": {
          "base_uri": "https://localhost:8080/"
        },
        "outputId": "0a47b811-955f-4bd9-de43-dcfb5916ab2e"
      },
      "execution_count": null,
      "outputs": [
        {
          "output_type": "execute_result",
          "data": {
            "text/plain": [
              "[('queen', 0.9685579538345337),\n",
              " ('princess', 0.9463500380516052),\n",
              " ('king-', 0.9447138905525208),\n",
              " ('ruler', 0.9445620775222778),\n",
              " ('monarch', 0.9377939701080322),\n",
              " ('boy-king', 0.9305790662765503),\n",
              " ('prince', 0.9301785826683044),\n",
              " ('child-king', 0.9288570284843445),\n",
              " ('queen-mother', 0.9288249611854553),\n",
              " ('kinswoman', 0.9174172282218933)]"
            ]
          },
          "metadata": {},
          "execution_count": 6
        }
      ]
    },
    {
      "cell_type": "code",
      "source": [
        "#guess this one first before you run\n",
        "fasttext.most_similar_cosmul(positive=['restaurant','cocktail'], negative=['dinner']) #function on the most word that has similar cosine similarity, a similarity metric"
      ],
      "metadata": {
        "id": "rnW5rWPIsxLe",
        "colab": {
          "base_uri": "https://localhost:8080/"
        },
        "outputId": "9860e1c4-b757-4468-ef94-3879c3fb7f78"
      },
      "execution_count": null,
      "outputs": [
        {
          "output_type": "execute_result",
          "data": {
            "text/plain": [
              "[('bar-restaurant', 0.9216464757919312),\n",
              " ('restaurant-bar', 0.9107573628425598),\n",
              " ('cocktail-making', 0.8984322547912598),\n",
              " ('mixology', 0.8981987833976746),\n",
              " ('wine-bar', 0.8936376571655273),\n",
              " ('nightclub', 0.889917254447937),\n",
              " ('brewpub', 0.8862351179122925),\n",
              " ('gastro-pub', 0.8823451995849609),\n",
              " ('cafe-bar', 0.8814406991004944),\n",
              " ('boutique', 0.8777208924293518)]"
            ]
          },
          "metadata": {},
          "execution_count": 7
        }
      ]
    },
    {
      "cell_type": "code",
      "source": [],
      "metadata": {
        "id": "8iP76LmKtBUr"
      },
      "execution_count": null,
      "outputs": []
    }
  ]
}