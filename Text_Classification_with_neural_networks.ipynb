{
  "nbformat": 4,
  "nbformat_minor": 0,
  "metadata": {
    "colab": {
      "provenance": [],
      "include_colab_link": true
    },
    "kernelspec": {
      "name": "python3",
      "display_name": "Python 3"
    },
    "language_info": {
      "name": "python"
    }
  },
  "cells": [
    {
      "cell_type": "markdown",
      "metadata": {
        "id": "view-in-github",
        "colab_type": "text"
      },
      "source": [
        "<a href=\"https://colab.research.google.com/github/79AceVo/Text-analytics/blob/main/Text_Classification_with_neural_networks.ipynb\" target=\"_parent\"><img src=\"https://colab.research.google.com/assets/colab-badge.svg\" alt=\"Open In Colab\"/></a>"
      ]
    },
    {
      "cell_type": "markdown",
      "source": [
        "## Text Classification\n",
        "\n",
        "First we will use traditional ML to classify texts\n",
        "\n",
        "we will try Naive Bayes, Linear Models, and Support Vector Machine."
      ],
      "metadata": {
        "id": "u8QQqNoFRXwH"
      }
    },
    {
      "cell_type": "code",
      "execution_count": 2,
      "metadata": {
        "colab": {
          "base_uri": "https://localhost:8080/"
        },
        "id": "8OtDApbIN7F4",
        "outputId": "bdfddb81-8488-47dd-ec7f-8558c71573f9"
      },
      "outputs": [
        {
          "output_type": "stream",
          "name": "stderr",
          "text": [
            "[nltk_data] Downloading package stopwords to /root/nltk_data...\n",
            "[nltk_data]   Unzipping corpora/stopwords.zip.\n"
          ]
        }
      ],
      "source": [
        "#load the libraries\n",
        "\n",
        "import numpy as np\n",
        "import pandas as pd\n",
        "import itertools\n",
        "\n",
        "# matplotlib imports are used to plot confusion matrices for the classifiers\n",
        "import matplotlib as mpl\n",
        "import matplotlib.cm as cm\n",
        "import matplotlib.pyplot as plt\n",
        "\n",
        "# import feature extraction methods from sklearn\n",
        "from sklearn.feature_extraction.text import CountVectorizer\n",
        "\n",
        "import nltk\n",
        "from nltk.corpus import stopwords\n",
        "nltk.download('stopwords')\n",
        "\n",
        "# pre-processing of text\n",
        "import string\n",
        "import re\n",
        "\n",
        "# import classifiers from sklearn\n",
        "from sklearn.naive_bayes import MultinomialNB\n",
        "from sklearn.linear_model import LogisticRegression\n",
        "from sklearn.svm import LinearSVC\n",
        "\n",
        "# import different metrics to evaluate the classifiers\n",
        "from sklearn.metrics import accuracy_score\n",
        "\n",
        "# from sklearn.model_selection import train_test_split\n",
        "from sklearn.metrics import confusion_matrix\n",
        "from sklearn import metrics\n",
        "\n",
        "import sklearn\n",
        "#from sklearn.cross_validation import train_test_split\n",
        "from sklearn.model_selection import train_test_split\n",
        "from gensim.models import Word2Vec, KeyedVectors"
      ]
    },
    {
      "cell_type": "code",
      "source": [
        " #get the data\n",
        " !wget --no-check-certificate 'https://drive.google.com/uc?export=download&id=1zSroquVDCgXGUIT8ABFkJC235Ic2l5in' -O econ_news.csv"
      ],
      "metadata": {
        "colab": {
          "base_uri": "https://localhost:8080/"
        },
        "id": "PibysIZNOWbx",
        "outputId": "c8582f62-a06a-4e55-e3a0-f836c64a18dc"
      },
      "execution_count": 3,
      "outputs": [
        {
          "output_type": "stream",
          "name": "stdout",
          "text": [
            "--2025-02-13 06:31:11--  https://drive.google.com/uc?export=download&id=1zSroquVDCgXGUIT8ABFkJC235Ic2l5in\n",
            "Resolving drive.google.com (drive.google.com)... 74.125.202.101, 74.125.202.100, 74.125.202.138, ...\n",
            "Connecting to drive.google.com (drive.google.com)|74.125.202.101|:443... connected.\n",
            "HTTP request sent, awaiting response... 303 See Other\n",
            "Location: https://drive.usercontent.google.com/download?id=1zSroquVDCgXGUIT8ABFkJC235Ic2l5in&export=download [following]\n",
            "--2025-02-13 06:31:11--  https://drive.usercontent.google.com/download?id=1zSroquVDCgXGUIT8ABFkJC235Ic2l5in&export=download\n",
            "Resolving drive.usercontent.google.com (drive.usercontent.google.com)... 64.233.181.132, 2607:f8b0:4001:c09::84\n",
            "Connecting to drive.usercontent.google.com (drive.usercontent.google.com)|64.233.181.132|:443... connected.\n",
            "HTTP request sent, awaiting response... 200 OK\n",
            "Length: 12383529 (12M) [application/octet-stream]\n",
            "Saving to: ‘econ_news.csv’\n",
            "\n",
            "econ_news.csv       100%[===================>]  11.81M  21.2MB/s    in 0.6s    \n",
            "\n",
            "2025-02-13 06:31:20 (21.2 MB/s) - ‘econ_news.csv’ saved [12383529/12383529]\n",
            "\n"
          ]
        }
      ]
    },
    {
      "cell_type": "code",
      "source": [
        "df = pd.read_csv(\"/content/econ_news.csv\", encoding = \"ISO-8859-1\") #need encoding because default UTF-8 does not work"
      ],
      "metadata": {
        "id": "aDkJSPh7T_Ra"
      },
      "execution_count": 4,
      "outputs": []
    },
    {
      "cell_type": "markdown",
      "source": [
        "#let's do some data exploration"
      ],
      "metadata": {
        "id": "MKjRxQwaV7Af"
      }
    },
    {
      "cell_type": "code",
      "source": [
        "df.shape #here is our table. 800 rows and 15 columns"
      ],
      "metadata": {
        "colab": {
          "base_uri": "https://localhost:8080/"
        },
        "id": "3z_hdG07X5E2",
        "outputId": "fb9cc521-7274-43b2-df18-5b3cb8e2e078"
      },
      "execution_count": 5,
      "outputs": [
        {
          "output_type": "execute_result",
          "data": {
            "text/plain": [
              "(8000, 15)"
            ]
          },
          "metadata": {},
          "execution_count": 5
        }
      ]
    },
    {
      "cell_type": "code",
      "source": [
        "df.head()"
      ],
      "metadata": {
        "colab": {
          "base_uri": "https://localhost:8080/",
          "height": 573
        },
        "id": "A9KMQGTNVTGr",
        "outputId": "884e307a-b8ff-49ed-aed4-53e2731292bb"
      },
      "execution_count": 6,
      "outputs": [
        {
          "output_type": "execute_result",
          "data": {
            "text/plain": [
              "    _unit_id  _golden _unit_state  _trusted_judgments _last_judgment_at  \\\n",
              "0  842613455    False   finalized                   3     12/5/15 17:48   \n",
              "1  842613456    False   finalized                   3     12/5/15 16:54   \n",
              "2  842613457    False   finalized                   3      12/5/15 1:59   \n",
              "3  842613458    False   finalized                   3      12/5/15 2:19   \n",
              "4  842613459    False   finalized                   3     12/5/15 17:48   \n",
              "\n",
              "   positivity  positivity:confidence relevance  relevance:confidence  \\\n",
              "0         3.0                 0.6400       yes                 0.640   \n",
              "1         NaN                    NaN        no                 1.000   \n",
              "2         NaN                    NaN        no                 1.000   \n",
              "3         NaN                 0.0000        no                 0.675   \n",
              "4         3.0                 0.3257       yes                 0.640   \n",
              "\n",
              "       articleid      date                                           headline  \\\n",
              "0  wsj_398217788   8/14/91              Yields on CDs Fell in the Latest Week   \n",
              "1  wsj_399019502   8/21/07  The Morning Brief: White House Seeks to Limit ...   \n",
              "2  wsj_398284048  11/14/91  Banking Bill Negotiators Set Compromise --- Pl...   \n",
              "3  wsj_397959018   6/16/86  Manager's Journal: Sniffing Out Drug Abusers I...   \n",
              "4  wsj_398838054   10/4/02  Currency Trading: Dollar Remains in Tight Rang...   \n",
              "\n",
              "   positivity_gold  relevance_gold  \\\n",
              "0              NaN             NaN   \n",
              "1              NaN             NaN   \n",
              "2              NaN             NaN   \n",
              "3              NaN             NaN   \n",
              "4              NaN             NaN   \n",
              "\n",
              "                                                text  \n",
              "0  NEW YORK -- Yields on most certificates of dep...  \n",
              "1  The Wall Street Journal Online</br></br>The Mo...  \n",
              "2  WASHINGTON -- In an effort to achieve banking ...  \n",
              "3  The statistics on the enormous costs of employ...  \n",
              "4  NEW YORK -- Indecision marked the dollar's ton...  "
            ],
            "text/html": [
              "\n",
              "  <div id=\"df-19443123-8177-4bf0-a30d-8fb575fc81fc\" class=\"colab-df-container\">\n",
              "    <div>\n",
              "<style scoped>\n",
              "    .dataframe tbody tr th:only-of-type {\n",
              "        vertical-align: middle;\n",
              "    }\n",
              "\n",
              "    .dataframe tbody tr th {\n",
              "        vertical-align: top;\n",
              "    }\n",
              "\n",
              "    .dataframe thead th {\n",
              "        text-align: right;\n",
              "    }\n",
              "</style>\n",
              "<table border=\"1\" class=\"dataframe\">\n",
              "  <thead>\n",
              "    <tr style=\"text-align: right;\">\n",
              "      <th></th>\n",
              "      <th>_unit_id</th>\n",
              "      <th>_golden</th>\n",
              "      <th>_unit_state</th>\n",
              "      <th>_trusted_judgments</th>\n",
              "      <th>_last_judgment_at</th>\n",
              "      <th>positivity</th>\n",
              "      <th>positivity:confidence</th>\n",
              "      <th>relevance</th>\n",
              "      <th>relevance:confidence</th>\n",
              "      <th>articleid</th>\n",
              "      <th>date</th>\n",
              "      <th>headline</th>\n",
              "      <th>positivity_gold</th>\n",
              "      <th>relevance_gold</th>\n",
              "      <th>text</th>\n",
              "    </tr>\n",
              "  </thead>\n",
              "  <tbody>\n",
              "    <tr>\n",
              "      <th>0</th>\n",
              "      <td>842613455</td>\n",
              "      <td>False</td>\n",
              "      <td>finalized</td>\n",
              "      <td>3</td>\n",
              "      <td>12/5/15 17:48</td>\n",
              "      <td>3.0</td>\n",
              "      <td>0.6400</td>\n",
              "      <td>yes</td>\n",
              "      <td>0.640</td>\n",
              "      <td>wsj_398217788</td>\n",
              "      <td>8/14/91</td>\n",
              "      <td>Yields on CDs Fell in the Latest Week</td>\n",
              "      <td>NaN</td>\n",
              "      <td>NaN</td>\n",
              "      <td>NEW YORK -- Yields on most certificates of dep...</td>\n",
              "    </tr>\n",
              "    <tr>\n",
              "      <th>1</th>\n",
              "      <td>842613456</td>\n",
              "      <td>False</td>\n",
              "      <td>finalized</td>\n",
              "      <td>3</td>\n",
              "      <td>12/5/15 16:54</td>\n",
              "      <td>NaN</td>\n",
              "      <td>NaN</td>\n",
              "      <td>no</td>\n",
              "      <td>1.000</td>\n",
              "      <td>wsj_399019502</td>\n",
              "      <td>8/21/07</td>\n",
              "      <td>The Morning Brief: White House Seeks to Limit ...</td>\n",
              "      <td>NaN</td>\n",
              "      <td>NaN</td>\n",
              "      <td>The Wall Street Journal Online&lt;/br&gt;&lt;/br&gt;The Mo...</td>\n",
              "    </tr>\n",
              "    <tr>\n",
              "      <th>2</th>\n",
              "      <td>842613457</td>\n",
              "      <td>False</td>\n",
              "      <td>finalized</td>\n",
              "      <td>3</td>\n",
              "      <td>12/5/15 1:59</td>\n",
              "      <td>NaN</td>\n",
              "      <td>NaN</td>\n",
              "      <td>no</td>\n",
              "      <td>1.000</td>\n",
              "      <td>wsj_398284048</td>\n",
              "      <td>11/14/91</td>\n",
              "      <td>Banking Bill Negotiators Set Compromise --- Pl...</td>\n",
              "      <td>NaN</td>\n",
              "      <td>NaN</td>\n",
              "      <td>WASHINGTON -- In an effort to achieve banking ...</td>\n",
              "    </tr>\n",
              "    <tr>\n",
              "      <th>3</th>\n",
              "      <td>842613458</td>\n",
              "      <td>False</td>\n",
              "      <td>finalized</td>\n",
              "      <td>3</td>\n",
              "      <td>12/5/15 2:19</td>\n",
              "      <td>NaN</td>\n",
              "      <td>0.0000</td>\n",
              "      <td>no</td>\n",
              "      <td>0.675</td>\n",
              "      <td>wsj_397959018</td>\n",
              "      <td>6/16/86</td>\n",
              "      <td>Manager's Journal: Sniffing Out Drug Abusers I...</td>\n",
              "      <td>NaN</td>\n",
              "      <td>NaN</td>\n",
              "      <td>The statistics on the enormous costs of employ...</td>\n",
              "    </tr>\n",
              "    <tr>\n",
              "      <th>4</th>\n",
              "      <td>842613459</td>\n",
              "      <td>False</td>\n",
              "      <td>finalized</td>\n",
              "      <td>3</td>\n",
              "      <td>12/5/15 17:48</td>\n",
              "      <td>3.0</td>\n",
              "      <td>0.3257</td>\n",
              "      <td>yes</td>\n",
              "      <td>0.640</td>\n",
              "      <td>wsj_398838054</td>\n",
              "      <td>10/4/02</td>\n",
              "      <td>Currency Trading: Dollar Remains in Tight Rang...</td>\n",
              "      <td>NaN</td>\n",
              "      <td>NaN</td>\n",
              "      <td>NEW YORK -- Indecision marked the dollar's ton...</td>\n",
              "    </tr>\n",
              "  </tbody>\n",
              "</table>\n",
              "</div>\n",
              "    <div class=\"colab-df-buttons\">\n",
              "\n",
              "  <div class=\"colab-df-container\">\n",
              "    <button class=\"colab-df-convert\" onclick=\"convertToInteractive('df-19443123-8177-4bf0-a30d-8fb575fc81fc')\"\n",
              "            title=\"Convert this dataframe to an interactive table.\"\n",
              "            style=\"display:none;\">\n",
              "\n",
              "  <svg xmlns=\"http://www.w3.org/2000/svg\" height=\"24px\" viewBox=\"0 -960 960 960\">\n",
              "    <path d=\"M120-120v-720h720v720H120Zm60-500h600v-160H180v160Zm220 220h160v-160H400v160Zm0 220h160v-160H400v160ZM180-400h160v-160H180v160Zm440 0h160v-160H620v160ZM180-180h160v-160H180v160Zm440 0h160v-160H620v160Z\"/>\n",
              "  </svg>\n",
              "    </button>\n",
              "\n",
              "  <style>\n",
              "    .colab-df-container {\n",
              "      display:flex;\n",
              "      gap: 12px;\n",
              "    }\n",
              "\n",
              "    .colab-df-convert {\n",
              "      background-color: #E8F0FE;\n",
              "      border: none;\n",
              "      border-radius: 50%;\n",
              "      cursor: pointer;\n",
              "      display: none;\n",
              "      fill: #1967D2;\n",
              "      height: 32px;\n",
              "      padding: 0 0 0 0;\n",
              "      width: 32px;\n",
              "    }\n",
              "\n",
              "    .colab-df-convert:hover {\n",
              "      background-color: #E2EBFA;\n",
              "      box-shadow: 0px 1px 2px rgba(60, 64, 67, 0.3), 0px 1px 3px 1px rgba(60, 64, 67, 0.15);\n",
              "      fill: #174EA6;\n",
              "    }\n",
              "\n",
              "    .colab-df-buttons div {\n",
              "      margin-bottom: 4px;\n",
              "    }\n",
              "\n",
              "    [theme=dark] .colab-df-convert {\n",
              "      background-color: #3B4455;\n",
              "      fill: #D2E3FC;\n",
              "    }\n",
              "\n",
              "    [theme=dark] .colab-df-convert:hover {\n",
              "      background-color: #434B5C;\n",
              "      box-shadow: 0px 1px 3px 1px rgba(0, 0, 0, 0.15);\n",
              "      filter: drop-shadow(0px 1px 2px rgba(0, 0, 0, 0.3));\n",
              "      fill: #FFFFFF;\n",
              "    }\n",
              "  </style>\n",
              "\n",
              "    <script>\n",
              "      const buttonEl =\n",
              "        document.querySelector('#df-19443123-8177-4bf0-a30d-8fb575fc81fc button.colab-df-convert');\n",
              "      buttonEl.style.display =\n",
              "        google.colab.kernel.accessAllowed ? 'block' : 'none';\n",
              "\n",
              "      async function convertToInteractive(key) {\n",
              "        const element = document.querySelector('#df-19443123-8177-4bf0-a30d-8fb575fc81fc');\n",
              "        const dataTable =\n",
              "          await google.colab.kernel.invokeFunction('convertToInteractive',\n",
              "                                                    [key], {});\n",
              "        if (!dataTable) return;\n",
              "\n",
              "        const docLinkHtml = 'Like what you see? Visit the ' +\n",
              "          '<a target=\"_blank\" href=https://colab.research.google.com/notebooks/data_table.ipynb>data table notebook</a>'\n",
              "          + ' to learn more about interactive tables.';\n",
              "        element.innerHTML = '';\n",
              "        dataTable['output_type'] = 'display_data';\n",
              "        await google.colab.output.renderOutput(dataTable, element);\n",
              "        const docLink = document.createElement('div');\n",
              "        docLink.innerHTML = docLinkHtml;\n",
              "        element.appendChild(docLink);\n",
              "      }\n",
              "    </script>\n",
              "  </div>\n",
              "\n",
              "\n",
              "<div id=\"df-219077d1-4942-4db2-a4e1-d53a81af48ea\">\n",
              "  <button class=\"colab-df-quickchart\" onclick=\"quickchart('df-219077d1-4942-4db2-a4e1-d53a81af48ea')\"\n",
              "            title=\"Suggest charts\"\n",
              "            style=\"display:none;\">\n",
              "\n",
              "<svg xmlns=\"http://www.w3.org/2000/svg\" height=\"24px\"viewBox=\"0 0 24 24\"\n",
              "     width=\"24px\">\n",
              "    <g>\n",
              "        <path d=\"M19 3H5c-1.1 0-2 .9-2 2v14c0 1.1.9 2 2 2h14c1.1 0 2-.9 2-2V5c0-1.1-.9-2-2-2zM9 17H7v-7h2v7zm4 0h-2V7h2v10zm4 0h-2v-4h2v4z\"/>\n",
              "    </g>\n",
              "</svg>\n",
              "  </button>\n",
              "\n",
              "<style>\n",
              "  .colab-df-quickchart {\n",
              "      --bg-color: #E8F0FE;\n",
              "      --fill-color: #1967D2;\n",
              "      --hover-bg-color: #E2EBFA;\n",
              "      --hover-fill-color: #174EA6;\n",
              "      --disabled-fill-color: #AAA;\n",
              "      --disabled-bg-color: #DDD;\n",
              "  }\n",
              "\n",
              "  [theme=dark] .colab-df-quickchart {\n",
              "      --bg-color: #3B4455;\n",
              "      --fill-color: #D2E3FC;\n",
              "      --hover-bg-color: #434B5C;\n",
              "      --hover-fill-color: #FFFFFF;\n",
              "      --disabled-bg-color: #3B4455;\n",
              "      --disabled-fill-color: #666;\n",
              "  }\n",
              "\n",
              "  .colab-df-quickchart {\n",
              "    background-color: var(--bg-color);\n",
              "    border: none;\n",
              "    border-radius: 50%;\n",
              "    cursor: pointer;\n",
              "    display: none;\n",
              "    fill: var(--fill-color);\n",
              "    height: 32px;\n",
              "    padding: 0;\n",
              "    width: 32px;\n",
              "  }\n",
              "\n",
              "  .colab-df-quickchart:hover {\n",
              "    background-color: var(--hover-bg-color);\n",
              "    box-shadow: 0 1px 2px rgba(60, 64, 67, 0.3), 0 1px 3px 1px rgba(60, 64, 67, 0.15);\n",
              "    fill: var(--button-hover-fill-color);\n",
              "  }\n",
              "\n",
              "  .colab-df-quickchart-complete:disabled,\n",
              "  .colab-df-quickchart-complete:disabled:hover {\n",
              "    background-color: var(--disabled-bg-color);\n",
              "    fill: var(--disabled-fill-color);\n",
              "    box-shadow: none;\n",
              "  }\n",
              "\n",
              "  .colab-df-spinner {\n",
              "    border: 2px solid var(--fill-color);\n",
              "    border-color: transparent;\n",
              "    border-bottom-color: var(--fill-color);\n",
              "    animation:\n",
              "      spin 1s steps(1) infinite;\n",
              "  }\n",
              "\n",
              "  @keyframes spin {\n",
              "    0% {\n",
              "      border-color: transparent;\n",
              "      border-bottom-color: var(--fill-color);\n",
              "      border-left-color: var(--fill-color);\n",
              "    }\n",
              "    20% {\n",
              "      border-color: transparent;\n",
              "      border-left-color: var(--fill-color);\n",
              "      border-top-color: var(--fill-color);\n",
              "    }\n",
              "    30% {\n",
              "      border-color: transparent;\n",
              "      border-left-color: var(--fill-color);\n",
              "      border-top-color: var(--fill-color);\n",
              "      border-right-color: var(--fill-color);\n",
              "    }\n",
              "    40% {\n",
              "      border-color: transparent;\n",
              "      border-right-color: var(--fill-color);\n",
              "      border-top-color: var(--fill-color);\n",
              "    }\n",
              "    60% {\n",
              "      border-color: transparent;\n",
              "      border-right-color: var(--fill-color);\n",
              "    }\n",
              "    80% {\n",
              "      border-color: transparent;\n",
              "      border-right-color: var(--fill-color);\n",
              "      border-bottom-color: var(--fill-color);\n",
              "    }\n",
              "    90% {\n",
              "      border-color: transparent;\n",
              "      border-bottom-color: var(--fill-color);\n",
              "    }\n",
              "  }\n",
              "</style>\n",
              "\n",
              "  <script>\n",
              "    async function quickchart(key) {\n",
              "      const quickchartButtonEl =\n",
              "        document.querySelector('#' + key + ' button');\n",
              "      quickchartButtonEl.disabled = true;  // To prevent multiple clicks.\n",
              "      quickchartButtonEl.classList.add('colab-df-spinner');\n",
              "      try {\n",
              "        const charts = await google.colab.kernel.invokeFunction(\n",
              "            'suggestCharts', [key], {});\n",
              "      } catch (error) {\n",
              "        console.error('Error during call to suggestCharts:', error);\n",
              "      }\n",
              "      quickchartButtonEl.classList.remove('colab-df-spinner');\n",
              "      quickchartButtonEl.classList.add('colab-df-quickchart-complete');\n",
              "    }\n",
              "    (() => {\n",
              "      let quickchartButtonEl =\n",
              "        document.querySelector('#df-219077d1-4942-4db2-a4e1-d53a81af48ea button');\n",
              "      quickchartButtonEl.style.display =\n",
              "        google.colab.kernel.accessAllowed ? 'block' : 'none';\n",
              "    })();\n",
              "  </script>\n",
              "</div>\n",
              "\n",
              "    </div>\n",
              "  </div>\n"
            ],
            "application/vnd.google.colaboratory.intrinsic+json": {
              "type": "dataframe",
              "variable_name": "df",
              "summary": "{\n  \"name\": \"df\",\n  \"rows\": 8000,\n  \"fields\": [\n    {\n      \"column\": \"_unit_id\",\n      \"properties\": {\n        \"dtype\": \"number\",\n        \"std\": 5816277,\n        \"min\": 830981629,\n        \"max\": 842617463,\n        \"num_unique_values\": 8000,\n        \"samples\": [\n          842615676,\n          842616043,\n          842615121\n        ],\n        \"semantic_type\": \"\",\n        \"description\": \"\"\n      }\n    },\n    {\n      \"column\": \"_golden\",\n      \"properties\": {\n        \"dtype\": \"boolean\",\n        \"num_unique_values\": 1,\n        \"samples\": [\n          false\n        ],\n        \"semantic_type\": \"\",\n        \"description\": \"\"\n      }\n    },\n    {\n      \"column\": \"_unit_state\",\n      \"properties\": {\n        \"dtype\": \"category\",\n        \"num_unique_values\": 1,\n        \"samples\": [\n          \"finalized\"\n        ],\n        \"semantic_type\": \"\",\n        \"description\": \"\"\n      }\n    },\n    {\n      \"column\": \"_trusted_judgments\",\n      \"properties\": {\n        \"dtype\": \"number\",\n        \"std\": 0,\n        \"min\": 3,\n        \"max\": 3,\n        \"num_unique_values\": 1,\n        \"samples\": [\n          3\n        ],\n        \"semantic_type\": \"\",\n        \"description\": \"\"\n      }\n    },\n    {\n      \"column\": \"_last_judgment_at\",\n      \"properties\": {\n        \"dtype\": \"object\",\n        \"num_unique_values\": 1229,\n        \"samples\": [\n          \"12/5/15 20:47\"\n        ],\n        \"semantic_type\": \"\",\n        \"description\": \"\"\n      }\n    },\n    {\n      \"column\": \"positivity\",\n      \"properties\": {\n        \"dtype\": \"number\",\n        \"std\": 1.6803573222765273,\n        \"min\": 2.0,\n        \"max\": 9.0,\n        \"num_unique_values\": 8,\n        \"samples\": [\n          4.0\n        ],\n        \"semantic_type\": \"\",\n        \"description\": \"\"\n      }\n    },\n    {\n      \"column\": \"positivity:confidence\",\n      \"properties\": {\n        \"dtype\": \"number\",\n        \"std\": 0.26959260369192883,\n        \"min\": 0.0,\n        \"max\": 1.0,\n        \"num_unique_values\": 382,\n        \"samples\": [\n          0.637\n        ],\n        \"semantic_type\": \"\",\n        \"description\": \"\"\n      }\n    },\n    {\n      \"column\": \"relevance\",\n      \"properties\": {\n        \"dtype\": \"category\",\n        \"num_unique_values\": 3,\n        \"samples\": [\n          \"yes\"\n        ],\n        \"semantic_type\": \"\",\n        \"description\": \"\"\n      }\n    },\n    {\n      \"column\": \"relevance:confidence\",\n      \"properties\": {\n        \"dtype\": \"number\",\n        \"std\": 0.1661803883547498,\n        \"min\": 0.3364,\n        \"max\": 1.0,\n        \"num_unique_values\": 432,\n        \"samples\": [\n          0.3465\n        ],\n        \"semantic_type\": \"\",\n        \"description\": \"\"\n      }\n    },\n    {\n      \"column\": \"articleid\",\n      \"properties\": {\n        \"dtype\": \"string\",\n        \"num_unique_values\": 8000,\n        \"samples\": [\n          \"wsj_397949534\"\n        ],\n        \"semantic_type\": \"\",\n        \"description\": \"\"\n      }\n    },\n    {\n      \"column\": \"date\",\n      \"properties\": {\n        \"dtype\": \"object\",\n        \"num_unique_values\": 6109,\n        \"samples\": [\n          \"2/19/86\"\n        ],\n        \"semantic_type\": \"\",\n        \"description\": \"\"\n      }\n    },\n    {\n      \"column\": \"headline\",\n      \"properties\": {\n        \"dtype\": \"string\",\n        \"num_unique_values\": 7698,\n        \"samples\": [\n          \"Dollar Takes a Nose Dive Against Major Currencies Series: The Stock Market Crisis\"\n        ],\n        \"semantic_type\": \"\",\n        \"description\": \"\"\n      }\n    },\n    {\n      \"column\": \"positivity_gold\",\n      \"properties\": {\n        \"dtype\": \"number\",\n        \"std\": null,\n        \"min\": null,\n        \"max\": null,\n        \"num_unique_values\": 0,\n        \"samples\": [],\n        \"semantic_type\": \"\",\n        \"description\": \"\"\n      }\n    },\n    {\n      \"column\": \"relevance_gold\",\n      \"properties\": {\n        \"dtype\": \"number\",\n        \"std\": null,\n        \"min\": null,\n        \"max\": null,\n        \"num_unique_values\": 0,\n        \"samples\": [],\n        \"semantic_type\": \"\",\n        \"description\": \"\"\n      }\n    },\n    {\n      \"column\": \"text\",\n      \"properties\": {\n        \"dtype\": \"string\",\n        \"num_unique_values\": 7994,\n        \"samples\": [],\n        \"semantic_type\": \"\",\n        \"description\": \"\"\n      }\n    }\n  ]\n}"
            }
          },
          "metadata": {},
          "execution_count": 6
        }
      ]
    },
    {
      "cell_type": "code",
      "source": [
        "df.columns #here are all the columns\n"
      ],
      "metadata": {
        "colab": {
          "base_uri": "https://localhost:8080/"
        },
        "id": "8pQAjJbtWQTM",
        "outputId": "780ac9e5-3fa3-45b0-9972-de96db4cd046"
      },
      "execution_count": 7,
      "outputs": [
        {
          "output_type": "execute_result",
          "data": {
            "text/plain": [
              "Index(['_unit_id', '_golden', '_unit_state', '_trusted_judgments',\n",
              "       '_last_judgment_at', 'positivity', 'positivity:confidence', 'relevance',\n",
              "       'relevance:confidence', 'articleid', 'date', 'headline',\n",
              "       'positivity_gold', 'relevance_gold', 'text'],\n",
              "      dtype='object')"
            ]
          },
          "metadata": {},
          "execution_count": 7
        }
      ]
    },
    {
      "cell_type": "code",
      "source": [
        "df.describe() #here are some stats"
      ],
      "metadata": {
        "colab": {
          "base_uri": "https://localhost:8080/",
          "height": 320
        },
        "id": "-gsCtHomV5F7",
        "outputId": "3470f560-e416-45a5-9092-906202a3fba9"
      },
      "execution_count": 8,
      "outputs": [
        {
          "output_type": "execute_result",
          "data": {
            "text/plain": [
              "           _unit_id  _trusted_judgments   positivity  positivity:confidence  \\\n",
              "count  8.000000e+03              8000.0  1420.000000            3775.000000   \n",
              "mean   8.367995e+08                 3.0     4.985211               0.188450   \n",
              "std    5.816278e+06                 0.0     1.680357               0.269593   \n",
              "min    8.309816e+08                 3.0     2.000000               0.000000   \n",
              "25%    8.309836e+08                 3.0     3.000000               0.000000   \n",
              "50%    8.367995e+08                 3.0     5.000000               0.000000   \n",
              "75%    8.426155e+08                 3.0     7.000000               0.345800   \n",
              "max    8.426175e+08                 3.0     9.000000               1.000000   \n",
              "\n",
              "       relevance:confidence  positivity_gold  relevance_gold  \n",
              "count           8000.000000              0.0             0.0  \n",
              "mean               0.859009              NaN             NaN  \n",
              "std                0.166180              NaN             NaN  \n",
              "min                0.336400              NaN             NaN  \n",
              "25%                0.669700              NaN             NaN  \n",
              "50%                1.000000              NaN             NaN  \n",
              "75%                1.000000              NaN             NaN  \n",
              "max                1.000000              NaN             NaN  "
            ],
            "text/html": [
              "\n",
              "  <div id=\"df-99a150cc-768d-40be-a0f8-fa2ae4f18d88\" class=\"colab-df-container\">\n",
              "    <div>\n",
              "<style scoped>\n",
              "    .dataframe tbody tr th:only-of-type {\n",
              "        vertical-align: middle;\n",
              "    }\n",
              "\n",
              "    .dataframe tbody tr th {\n",
              "        vertical-align: top;\n",
              "    }\n",
              "\n",
              "    .dataframe thead th {\n",
              "        text-align: right;\n",
              "    }\n",
              "</style>\n",
              "<table border=\"1\" class=\"dataframe\">\n",
              "  <thead>\n",
              "    <tr style=\"text-align: right;\">\n",
              "      <th></th>\n",
              "      <th>_unit_id</th>\n",
              "      <th>_trusted_judgments</th>\n",
              "      <th>positivity</th>\n",
              "      <th>positivity:confidence</th>\n",
              "      <th>relevance:confidence</th>\n",
              "      <th>positivity_gold</th>\n",
              "      <th>relevance_gold</th>\n",
              "    </tr>\n",
              "  </thead>\n",
              "  <tbody>\n",
              "    <tr>\n",
              "      <th>count</th>\n",
              "      <td>8.000000e+03</td>\n",
              "      <td>8000.0</td>\n",
              "      <td>1420.000000</td>\n",
              "      <td>3775.000000</td>\n",
              "      <td>8000.000000</td>\n",
              "      <td>0.0</td>\n",
              "      <td>0.0</td>\n",
              "    </tr>\n",
              "    <tr>\n",
              "      <th>mean</th>\n",
              "      <td>8.367995e+08</td>\n",
              "      <td>3.0</td>\n",
              "      <td>4.985211</td>\n",
              "      <td>0.188450</td>\n",
              "      <td>0.859009</td>\n",
              "      <td>NaN</td>\n",
              "      <td>NaN</td>\n",
              "    </tr>\n",
              "    <tr>\n",
              "      <th>std</th>\n",
              "      <td>5.816278e+06</td>\n",
              "      <td>0.0</td>\n",
              "      <td>1.680357</td>\n",
              "      <td>0.269593</td>\n",
              "      <td>0.166180</td>\n",
              "      <td>NaN</td>\n",
              "      <td>NaN</td>\n",
              "    </tr>\n",
              "    <tr>\n",
              "      <th>min</th>\n",
              "      <td>8.309816e+08</td>\n",
              "      <td>3.0</td>\n",
              "      <td>2.000000</td>\n",
              "      <td>0.000000</td>\n",
              "      <td>0.336400</td>\n",
              "      <td>NaN</td>\n",
              "      <td>NaN</td>\n",
              "    </tr>\n",
              "    <tr>\n",
              "      <th>25%</th>\n",
              "      <td>8.309836e+08</td>\n",
              "      <td>3.0</td>\n",
              "      <td>3.000000</td>\n",
              "      <td>0.000000</td>\n",
              "      <td>0.669700</td>\n",
              "      <td>NaN</td>\n",
              "      <td>NaN</td>\n",
              "    </tr>\n",
              "    <tr>\n",
              "      <th>50%</th>\n",
              "      <td>8.367995e+08</td>\n",
              "      <td>3.0</td>\n",
              "      <td>5.000000</td>\n",
              "      <td>0.000000</td>\n",
              "      <td>1.000000</td>\n",
              "      <td>NaN</td>\n",
              "      <td>NaN</td>\n",
              "    </tr>\n",
              "    <tr>\n",
              "      <th>75%</th>\n",
              "      <td>8.426155e+08</td>\n",
              "      <td>3.0</td>\n",
              "      <td>7.000000</td>\n",
              "      <td>0.345800</td>\n",
              "      <td>1.000000</td>\n",
              "      <td>NaN</td>\n",
              "      <td>NaN</td>\n",
              "    </tr>\n",
              "    <tr>\n",
              "      <th>max</th>\n",
              "      <td>8.426175e+08</td>\n",
              "      <td>3.0</td>\n",
              "      <td>9.000000</td>\n",
              "      <td>1.000000</td>\n",
              "      <td>1.000000</td>\n",
              "      <td>NaN</td>\n",
              "      <td>NaN</td>\n",
              "    </tr>\n",
              "  </tbody>\n",
              "</table>\n",
              "</div>\n",
              "    <div class=\"colab-df-buttons\">\n",
              "\n",
              "  <div class=\"colab-df-container\">\n",
              "    <button class=\"colab-df-convert\" onclick=\"convertToInteractive('df-99a150cc-768d-40be-a0f8-fa2ae4f18d88')\"\n",
              "            title=\"Convert this dataframe to an interactive table.\"\n",
              "            style=\"display:none;\">\n",
              "\n",
              "  <svg xmlns=\"http://www.w3.org/2000/svg\" height=\"24px\" viewBox=\"0 -960 960 960\">\n",
              "    <path d=\"M120-120v-720h720v720H120Zm60-500h600v-160H180v160Zm220 220h160v-160H400v160Zm0 220h160v-160H400v160ZM180-400h160v-160H180v160Zm440 0h160v-160H620v160ZM180-180h160v-160H180v160Zm440 0h160v-160H620v160Z\"/>\n",
              "  </svg>\n",
              "    </button>\n",
              "\n",
              "  <style>\n",
              "    .colab-df-container {\n",
              "      display:flex;\n",
              "      gap: 12px;\n",
              "    }\n",
              "\n",
              "    .colab-df-convert {\n",
              "      background-color: #E8F0FE;\n",
              "      border: none;\n",
              "      border-radius: 50%;\n",
              "      cursor: pointer;\n",
              "      display: none;\n",
              "      fill: #1967D2;\n",
              "      height: 32px;\n",
              "      padding: 0 0 0 0;\n",
              "      width: 32px;\n",
              "    }\n",
              "\n",
              "    .colab-df-convert:hover {\n",
              "      background-color: #E2EBFA;\n",
              "      box-shadow: 0px 1px 2px rgba(60, 64, 67, 0.3), 0px 1px 3px 1px rgba(60, 64, 67, 0.15);\n",
              "      fill: #174EA6;\n",
              "    }\n",
              "\n",
              "    .colab-df-buttons div {\n",
              "      margin-bottom: 4px;\n",
              "    }\n",
              "\n",
              "    [theme=dark] .colab-df-convert {\n",
              "      background-color: #3B4455;\n",
              "      fill: #D2E3FC;\n",
              "    }\n",
              "\n",
              "    [theme=dark] .colab-df-convert:hover {\n",
              "      background-color: #434B5C;\n",
              "      box-shadow: 0px 1px 3px 1px rgba(0, 0, 0, 0.15);\n",
              "      filter: drop-shadow(0px 1px 2px rgba(0, 0, 0, 0.3));\n",
              "      fill: #FFFFFF;\n",
              "    }\n",
              "  </style>\n",
              "\n",
              "    <script>\n",
              "      const buttonEl =\n",
              "        document.querySelector('#df-99a150cc-768d-40be-a0f8-fa2ae4f18d88 button.colab-df-convert');\n",
              "      buttonEl.style.display =\n",
              "        google.colab.kernel.accessAllowed ? 'block' : 'none';\n",
              "\n",
              "      async function convertToInteractive(key) {\n",
              "        const element = document.querySelector('#df-99a150cc-768d-40be-a0f8-fa2ae4f18d88');\n",
              "        const dataTable =\n",
              "          await google.colab.kernel.invokeFunction('convertToInteractive',\n",
              "                                                    [key], {});\n",
              "        if (!dataTable) return;\n",
              "\n",
              "        const docLinkHtml = 'Like what you see? Visit the ' +\n",
              "          '<a target=\"_blank\" href=https://colab.research.google.com/notebooks/data_table.ipynb>data table notebook</a>'\n",
              "          + ' to learn more about interactive tables.';\n",
              "        element.innerHTML = '';\n",
              "        dataTable['output_type'] = 'display_data';\n",
              "        await google.colab.output.renderOutput(dataTable, element);\n",
              "        const docLink = document.createElement('div');\n",
              "        docLink.innerHTML = docLinkHtml;\n",
              "        element.appendChild(docLink);\n",
              "      }\n",
              "    </script>\n",
              "  </div>\n",
              "\n",
              "\n",
              "<div id=\"df-a8f26daa-d419-4acb-9844-d17aec6e2542\">\n",
              "  <button class=\"colab-df-quickchart\" onclick=\"quickchart('df-a8f26daa-d419-4acb-9844-d17aec6e2542')\"\n",
              "            title=\"Suggest charts\"\n",
              "            style=\"display:none;\">\n",
              "\n",
              "<svg xmlns=\"http://www.w3.org/2000/svg\" height=\"24px\"viewBox=\"0 0 24 24\"\n",
              "     width=\"24px\">\n",
              "    <g>\n",
              "        <path d=\"M19 3H5c-1.1 0-2 .9-2 2v14c0 1.1.9 2 2 2h14c1.1 0 2-.9 2-2V5c0-1.1-.9-2-2-2zM9 17H7v-7h2v7zm4 0h-2V7h2v10zm4 0h-2v-4h2v4z\"/>\n",
              "    </g>\n",
              "</svg>\n",
              "  </button>\n",
              "\n",
              "<style>\n",
              "  .colab-df-quickchart {\n",
              "      --bg-color: #E8F0FE;\n",
              "      --fill-color: #1967D2;\n",
              "      --hover-bg-color: #E2EBFA;\n",
              "      --hover-fill-color: #174EA6;\n",
              "      --disabled-fill-color: #AAA;\n",
              "      --disabled-bg-color: #DDD;\n",
              "  }\n",
              "\n",
              "  [theme=dark] .colab-df-quickchart {\n",
              "      --bg-color: #3B4455;\n",
              "      --fill-color: #D2E3FC;\n",
              "      --hover-bg-color: #434B5C;\n",
              "      --hover-fill-color: #FFFFFF;\n",
              "      --disabled-bg-color: #3B4455;\n",
              "      --disabled-fill-color: #666;\n",
              "  }\n",
              "\n",
              "  .colab-df-quickchart {\n",
              "    background-color: var(--bg-color);\n",
              "    border: none;\n",
              "    border-radius: 50%;\n",
              "    cursor: pointer;\n",
              "    display: none;\n",
              "    fill: var(--fill-color);\n",
              "    height: 32px;\n",
              "    padding: 0;\n",
              "    width: 32px;\n",
              "  }\n",
              "\n",
              "  .colab-df-quickchart:hover {\n",
              "    background-color: var(--hover-bg-color);\n",
              "    box-shadow: 0 1px 2px rgba(60, 64, 67, 0.3), 0 1px 3px 1px rgba(60, 64, 67, 0.15);\n",
              "    fill: var(--button-hover-fill-color);\n",
              "  }\n",
              "\n",
              "  .colab-df-quickchart-complete:disabled,\n",
              "  .colab-df-quickchart-complete:disabled:hover {\n",
              "    background-color: var(--disabled-bg-color);\n",
              "    fill: var(--disabled-fill-color);\n",
              "    box-shadow: none;\n",
              "  }\n",
              "\n",
              "  .colab-df-spinner {\n",
              "    border: 2px solid var(--fill-color);\n",
              "    border-color: transparent;\n",
              "    border-bottom-color: var(--fill-color);\n",
              "    animation:\n",
              "      spin 1s steps(1) infinite;\n",
              "  }\n",
              "\n",
              "  @keyframes spin {\n",
              "    0% {\n",
              "      border-color: transparent;\n",
              "      border-bottom-color: var(--fill-color);\n",
              "      border-left-color: var(--fill-color);\n",
              "    }\n",
              "    20% {\n",
              "      border-color: transparent;\n",
              "      border-left-color: var(--fill-color);\n",
              "      border-top-color: var(--fill-color);\n",
              "    }\n",
              "    30% {\n",
              "      border-color: transparent;\n",
              "      border-left-color: var(--fill-color);\n",
              "      border-top-color: var(--fill-color);\n",
              "      border-right-color: var(--fill-color);\n",
              "    }\n",
              "    40% {\n",
              "      border-color: transparent;\n",
              "      border-right-color: var(--fill-color);\n",
              "      border-top-color: var(--fill-color);\n",
              "    }\n",
              "    60% {\n",
              "      border-color: transparent;\n",
              "      border-right-color: var(--fill-color);\n",
              "    }\n",
              "    80% {\n",
              "      border-color: transparent;\n",
              "      border-right-color: var(--fill-color);\n",
              "      border-bottom-color: var(--fill-color);\n",
              "    }\n",
              "    90% {\n",
              "      border-color: transparent;\n",
              "      border-bottom-color: var(--fill-color);\n",
              "    }\n",
              "  }\n",
              "</style>\n",
              "\n",
              "  <script>\n",
              "    async function quickchart(key) {\n",
              "      const quickchartButtonEl =\n",
              "        document.querySelector('#' + key + ' button');\n",
              "      quickchartButtonEl.disabled = true;  // To prevent multiple clicks.\n",
              "      quickchartButtonEl.classList.add('colab-df-spinner');\n",
              "      try {\n",
              "        const charts = await google.colab.kernel.invokeFunction(\n",
              "            'suggestCharts', [key], {});\n",
              "      } catch (error) {\n",
              "        console.error('Error during call to suggestCharts:', error);\n",
              "      }\n",
              "      quickchartButtonEl.classList.remove('colab-df-spinner');\n",
              "      quickchartButtonEl.classList.add('colab-df-quickchart-complete');\n",
              "    }\n",
              "    (() => {\n",
              "      let quickchartButtonEl =\n",
              "        document.querySelector('#df-a8f26daa-d419-4acb-9844-d17aec6e2542 button');\n",
              "      quickchartButtonEl.style.display =\n",
              "        google.colab.kernel.accessAllowed ? 'block' : 'none';\n",
              "    })();\n",
              "  </script>\n",
              "</div>\n",
              "\n",
              "    </div>\n",
              "  </div>\n"
            ],
            "application/vnd.google.colaboratory.intrinsic+json": {
              "type": "dataframe",
              "summary": "{\n  \"name\": \"df\",\n  \"rows\": 8,\n  \"fields\": [\n    {\n      \"column\": \"_unit_id\",\n      \"properties\": {\n        \"dtype\": \"number\",\n        \"std\": 386043025.6990836,\n        \"min\": 8000.0,\n        \"max\": 842617463.0,\n        \"num_unique_values\": 8,\n        \"samples\": [\n          836799545.52625,\n          836799545.5,\n          8000.0\n        ],\n        \"semantic_type\": \"\",\n        \"description\": \"\"\n      }\n    },\n    {\n      \"column\": \"_trusted_judgments\",\n      \"properties\": {\n        \"dtype\": \"number\",\n        \"std\": 2827.5181823338594,\n        \"min\": 0.0,\n        \"max\": 8000.0,\n        \"num_unique_values\": 3,\n        \"samples\": [\n          8000.0,\n          3.0,\n          0.0\n        ],\n        \"semantic_type\": \"\",\n        \"description\": \"\"\n      }\n    },\n    {\n      \"column\": \"positivity\",\n      \"properties\": {\n        \"dtype\": \"number\",\n        \"std\": 500.4021267456936,\n        \"min\": 1.6803573222765273,\n        \"max\": 1420.0,\n        \"num_unique_values\": 8,\n        \"samples\": [\n          4.985211267605634,\n          5.0,\n          1420.0\n        ],\n        \"semantic_type\": \"\",\n        \"description\": \"\"\n      }\n    },\n    {\n      \"column\": \"positivity:confidence\",\n      \"properties\": {\n        \"dtype\": \"number\",\n        \"std\": 1334.572982504701,\n        \"min\": 0.0,\n        \"max\": 3775.0,\n        \"num_unique_values\": 6,\n        \"samples\": [\n          3775.0,\n          0.18845017218543048,\n          1.0\n        ],\n        \"semantic_type\": \"\",\n        \"description\": \"\"\n      }\n    },\n    {\n      \"column\": \"relevance:confidence\",\n      \"properties\": {\n        \"dtype\": \"number\",\n        \"std\": 2828.173024210774,\n        \"min\": 0.1661803883547498,\n        \"max\": 8000.0,\n        \"num_unique_values\": 6,\n        \"samples\": [\n          8000.0,\n          0.8590090250000001,\n          1.0\n        ],\n        \"semantic_type\": \"\",\n        \"description\": \"\"\n      }\n    },\n    {\n      \"column\": \"positivity_gold\",\n      \"properties\": {\n        \"dtype\": \"number\",\n        \"std\": null,\n        \"min\": 0.0,\n        \"max\": 0.0,\n        \"num_unique_values\": 1,\n        \"samples\": [\n          0.0\n        ],\n        \"semantic_type\": \"\",\n        \"description\": \"\"\n      }\n    },\n    {\n      \"column\": \"relevance_gold\",\n      \"properties\": {\n        \"dtype\": \"number\",\n        \"std\": null,\n        \"min\": 0.0,\n        \"max\": 0.0,\n        \"num_unique_values\": 1,\n        \"samples\": [\n          0.0\n        ],\n        \"semantic_type\": \"\",\n        \"description\": \"\"\n      }\n    }\n  ]\n}"
            }
          },
          "metadata": {},
          "execution_count": 8
        }
      ]
    },
    {
      "cell_type": "code",
      "source": [
        "df.describe(include=\"O\") #here are some stats with text entry"
      ],
      "metadata": {
        "colab": {
          "base_uri": "https://localhost:8080/",
          "height": 299
        },
        "id": "U0pUB5MtWDmL",
        "outputId": "587cace6-d46c-41d0-99da-d3765a4512dc"
      },
      "execution_count": 9,
      "outputs": [
        {
          "output_type": "execute_result",
          "data": {
            "text/plain": [
              "       _unit_state _last_judgment_at relevance      articleid      date  \\\n",
              "count         8000              8000      8000           8000      8000   \n",
              "unique           1              1229         3           8000      6109   \n",
              "top      finalized     11/18/15 8:27        no  wsj_398217788  10/27/87   \n",
              "freq          8000                36      6571              1         6   \n",
              "\n",
              "                    headline  \\\n",
              "count                   8000   \n",
              "unique                  7698   \n",
              "top     Business and Finance   \n",
              "freq                      86   \n",
              "\n",
              "                                                     text  \n",
              "count                                                8000  \n",
              "unique                                               7994  \n",
              "top     The economic slump has yet to damp innovation ...  \n",
              "freq                                                    2  "
            ],
            "text/html": [
              "\n",
              "  <div id=\"df-870a6742-e094-4ce2-a76c-06f753d35627\" class=\"colab-df-container\">\n",
              "    <div>\n",
              "<style scoped>\n",
              "    .dataframe tbody tr th:only-of-type {\n",
              "        vertical-align: middle;\n",
              "    }\n",
              "\n",
              "    .dataframe tbody tr th {\n",
              "        vertical-align: top;\n",
              "    }\n",
              "\n",
              "    .dataframe thead th {\n",
              "        text-align: right;\n",
              "    }\n",
              "</style>\n",
              "<table border=\"1\" class=\"dataframe\">\n",
              "  <thead>\n",
              "    <tr style=\"text-align: right;\">\n",
              "      <th></th>\n",
              "      <th>_unit_state</th>\n",
              "      <th>_last_judgment_at</th>\n",
              "      <th>relevance</th>\n",
              "      <th>articleid</th>\n",
              "      <th>date</th>\n",
              "      <th>headline</th>\n",
              "      <th>text</th>\n",
              "    </tr>\n",
              "  </thead>\n",
              "  <tbody>\n",
              "    <tr>\n",
              "      <th>count</th>\n",
              "      <td>8000</td>\n",
              "      <td>8000</td>\n",
              "      <td>8000</td>\n",
              "      <td>8000</td>\n",
              "      <td>8000</td>\n",
              "      <td>8000</td>\n",
              "      <td>8000</td>\n",
              "    </tr>\n",
              "    <tr>\n",
              "      <th>unique</th>\n",
              "      <td>1</td>\n",
              "      <td>1229</td>\n",
              "      <td>3</td>\n",
              "      <td>8000</td>\n",
              "      <td>6109</td>\n",
              "      <td>7698</td>\n",
              "      <td>7994</td>\n",
              "    </tr>\n",
              "    <tr>\n",
              "      <th>top</th>\n",
              "      <td>finalized</td>\n",
              "      <td>11/18/15 8:27</td>\n",
              "      <td>no</td>\n",
              "      <td>wsj_398217788</td>\n",
              "      <td>10/27/87</td>\n",
              "      <td>Business and Finance</td>\n",
              "      <td>The economic slump has yet to damp innovation ...</td>\n",
              "    </tr>\n",
              "    <tr>\n",
              "      <th>freq</th>\n",
              "      <td>8000</td>\n",
              "      <td>36</td>\n",
              "      <td>6571</td>\n",
              "      <td>1</td>\n",
              "      <td>6</td>\n",
              "      <td>86</td>\n",
              "      <td>2</td>\n",
              "    </tr>\n",
              "  </tbody>\n",
              "</table>\n",
              "</div>\n",
              "    <div class=\"colab-df-buttons\">\n",
              "\n",
              "  <div class=\"colab-df-container\">\n",
              "    <button class=\"colab-df-convert\" onclick=\"convertToInteractive('df-870a6742-e094-4ce2-a76c-06f753d35627')\"\n",
              "            title=\"Convert this dataframe to an interactive table.\"\n",
              "            style=\"display:none;\">\n",
              "\n",
              "  <svg xmlns=\"http://www.w3.org/2000/svg\" height=\"24px\" viewBox=\"0 -960 960 960\">\n",
              "    <path d=\"M120-120v-720h720v720H120Zm60-500h600v-160H180v160Zm220 220h160v-160H400v160Zm0 220h160v-160H400v160ZM180-400h160v-160H180v160Zm440 0h160v-160H620v160ZM180-180h160v-160H180v160Zm440 0h160v-160H620v160Z\"/>\n",
              "  </svg>\n",
              "    </button>\n",
              "\n",
              "  <style>\n",
              "    .colab-df-container {\n",
              "      display:flex;\n",
              "      gap: 12px;\n",
              "    }\n",
              "\n",
              "    .colab-df-convert {\n",
              "      background-color: #E8F0FE;\n",
              "      border: none;\n",
              "      border-radius: 50%;\n",
              "      cursor: pointer;\n",
              "      display: none;\n",
              "      fill: #1967D2;\n",
              "      height: 32px;\n",
              "      padding: 0 0 0 0;\n",
              "      width: 32px;\n",
              "    }\n",
              "\n",
              "    .colab-df-convert:hover {\n",
              "      background-color: #E2EBFA;\n",
              "      box-shadow: 0px 1px 2px rgba(60, 64, 67, 0.3), 0px 1px 3px 1px rgba(60, 64, 67, 0.15);\n",
              "      fill: #174EA6;\n",
              "    }\n",
              "\n",
              "    .colab-df-buttons div {\n",
              "      margin-bottom: 4px;\n",
              "    }\n",
              "\n",
              "    [theme=dark] .colab-df-convert {\n",
              "      background-color: #3B4455;\n",
              "      fill: #D2E3FC;\n",
              "    }\n",
              "\n",
              "    [theme=dark] .colab-df-convert:hover {\n",
              "      background-color: #434B5C;\n",
              "      box-shadow: 0px 1px 3px 1px rgba(0, 0, 0, 0.15);\n",
              "      filter: drop-shadow(0px 1px 2px rgba(0, 0, 0, 0.3));\n",
              "      fill: #FFFFFF;\n",
              "    }\n",
              "  </style>\n",
              "\n",
              "    <script>\n",
              "      const buttonEl =\n",
              "        document.querySelector('#df-870a6742-e094-4ce2-a76c-06f753d35627 button.colab-df-convert');\n",
              "      buttonEl.style.display =\n",
              "        google.colab.kernel.accessAllowed ? 'block' : 'none';\n",
              "\n",
              "      async function convertToInteractive(key) {\n",
              "        const element = document.querySelector('#df-870a6742-e094-4ce2-a76c-06f753d35627');\n",
              "        const dataTable =\n",
              "          await google.colab.kernel.invokeFunction('convertToInteractive',\n",
              "                                                    [key], {});\n",
              "        if (!dataTable) return;\n",
              "\n",
              "        const docLinkHtml = 'Like what you see? Visit the ' +\n",
              "          '<a target=\"_blank\" href=https://colab.research.google.com/notebooks/data_table.ipynb>data table notebook</a>'\n",
              "          + ' to learn more about interactive tables.';\n",
              "        element.innerHTML = '';\n",
              "        dataTable['output_type'] = 'display_data';\n",
              "        await google.colab.output.renderOutput(dataTable, element);\n",
              "        const docLink = document.createElement('div');\n",
              "        docLink.innerHTML = docLinkHtml;\n",
              "        element.appendChild(docLink);\n",
              "      }\n",
              "    </script>\n",
              "  </div>\n",
              "\n",
              "\n",
              "<div id=\"df-2d648783-7cd4-4b63-ae29-7aeea371bf2c\">\n",
              "  <button class=\"colab-df-quickchart\" onclick=\"quickchart('df-2d648783-7cd4-4b63-ae29-7aeea371bf2c')\"\n",
              "            title=\"Suggest charts\"\n",
              "            style=\"display:none;\">\n",
              "\n",
              "<svg xmlns=\"http://www.w3.org/2000/svg\" height=\"24px\"viewBox=\"0 0 24 24\"\n",
              "     width=\"24px\">\n",
              "    <g>\n",
              "        <path d=\"M19 3H5c-1.1 0-2 .9-2 2v14c0 1.1.9 2 2 2h14c1.1 0 2-.9 2-2V5c0-1.1-.9-2-2-2zM9 17H7v-7h2v7zm4 0h-2V7h2v10zm4 0h-2v-4h2v4z\"/>\n",
              "    </g>\n",
              "</svg>\n",
              "  </button>\n",
              "\n",
              "<style>\n",
              "  .colab-df-quickchart {\n",
              "      --bg-color: #E8F0FE;\n",
              "      --fill-color: #1967D2;\n",
              "      --hover-bg-color: #E2EBFA;\n",
              "      --hover-fill-color: #174EA6;\n",
              "      --disabled-fill-color: #AAA;\n",
              "      --disabled-bg-color: #DDD;\n",
              "  }\n",
              "\n",
              "  [theme=dark] .colab-df-quickchart {\n",
              "      --bg-color: #3B4455;\n",
              "      --fill-color: #D2E3FC;\n",
              "      --hover-bg-color: #434B5C;\n",
              "      --hover-fill-color: #FFFFFF;\n",
              "      --disabled-bg-color: #3B4455;\n",
              "      --disabled-fill-color: #666;\n",
              "  }\n",
              "\n",
              "  .colab-df-quickchart {\n",
              "    background-color: var(--bg-color);\n",
              "    border: none;\n",
              "    border-radius: 50%;\n",
              "    cursor: pointer;\n",
              "    display: none;\n",
              "    fill: var(--fill-color);\n",
              "    height: 32px;\n",
              "    padding: 0;\n",
              "    width: 32px;\n",
              "  }\n",
              "\n",
              "  .colab-df-quickchart:hover {\n",
              "    background-color: var(--hover-bg-color);\n",
              "    box-shadow: 0 1px 2px rgba(60, 64, 67, 0.3), 0 1px 3px 1px rgba(60, 64, 67, 0.15);\n",
              "    fill: var(--button-hover-fill-color);\n",
              "  }\n",
              "\n",
              "  .colab-df-quickchart-complete:disabled,\n",
              "  .colab-df-quickchart-complete:disabled:hover {\n",
              "    background-color: var(--disabled-bg-color);\n",
              "    fill: var(--disabled-fill-color);\n",
              "    box-shadow: none;\n",
              "  }\n",
              "\n",
              "  .colab-df-spinner {\n",
              "    border: 2px solid var(--fill-color);\n",
              "    border-color: transparent;\n",
              "    border-bottom-color: var(--fill-color);\n",
              "    animation:\n",
              "      spin 1s steps(1) infinite;\n",
              "  }\n",
              "\n",
              "  @keyframes spin {\n",
              "    0% {\n",
              "      border-color: transparent;\n",
              "      border-bottom-color: var(--fill-color);\n",
              "      border-left-color: var(--fill-color);\n",
              "    }\n",
              "    20% {\n",
              "      border-color: transparent;\n",
              "      border-left-color: var(--fill-color);\n",
              "      border-top-color: var(--fill-color);\n",
              "    }\n",
              "    30% {\n",
              "      border-color: transparent;\n",
              "      border-left-color: var(--fill-color);\n",
              "      border-top-color: var(--fill-color);\n",
              "      border-right-color: var(--fill-color);\n",
              "    }\n",
              "    40% {\n",
              "      border-color: transparent;\n",
              "      border-right-color: var(--fill-color);\n",
              "      border-top-color: var(--fill-color);\n",
              "    }\n",
              "    60% {\n",
              "      border-color: transparent;\n",
              "      border-right-color: var(--fill-color);\n",
              "    }\n",
              "    80% {\n",
              "      border-color: transparent;\n",
              "      border-right-color: var(--fill-color);\n",
              "      border-bottom-color: var(--fill-color);\n",
              "    }\n",
              "    90% {\n",
              "      border-color: transparent;\n",
              "      border-bottom-color: var(--fill-color);\n",
              "    }\n",
              "  }\n",
              "</style>\n",
              "\n",
              "  <script>\n",
              "    async function quickchart(key) {\n",
              "      const quickchartButtonEl =\n",
              "        document.querySelector('#' + key + ' button');\n",
              "      quickchartButtonEl.disabled = true;  // To prevent multiple clicks.\n",
              "      quickchartButtonEl.classList.add('colab-df-spinner');\n",
              "      try {\n",
              "        const charts = await google.colab.kernel.invokeFunction(\n",
              "            'suggestCharts', [key], {});\n",
              "      } catch (error) {\n",
              "        console.error('Error during call to suggestCharts:', error);\n",
              "      }\n",
              "      quickchartButtonEl.classList.remove('colab-df-spinner');\n",
              "      quickchartButtonEl.classList.add('colab-df-quickchart-complete');\n",
              "    }\n",
              "    (() => {\n",
              "      let quickchartButtonEl =\n",
              "        document.querySelector('#df-2d648783-7cd4-4b63-ae29-7aeea371bf2c button');\n",
              "      quickchartButtonEl.style.display =\n",
              "        google.colab.kernel.accessAllowed ? 'block' : 'none';\n",
              "    })();\n",
              "  </script>\n",
              "</div>\n",
              "\n",
              "    </div>\n",
              "  </div>\n"
            ],
            "application/vnd.google.colaboratory.intrinsic+json": {
              "type": "dataframe",
              "summary": "{\n  \"name\": \"df\",\n  \"rows\": 4,\n  \"fields\": [\n    {\n      \"column\": \"_unit_state\",\n      \"properties\": {\n        \"dtype\": \"string\",\n        \"num_unique_values\": 3,\n        \"samples\": [\n          \"8000\",\n          1,\n          \"finalized\"\n        ],\n        \"semantic_type\": \"\",\n        \"description\": \"\"\n      }\n    },\n    {\n      \"column\": \"_last_judgment_at\",\n      \"properties\": {\n        \"dtype\": \"date\",\n        \"min\": \"1970-01-01 00:00:00.000000036\",\n        \"max\": \"2015-11-18 08:27:00\",\n        \"num_unique_values\": 4,\n        \"samples\": [\n          1229,\n          \"36\",\n          \"8000\"\n        ],\n        \"semantic_type\": \"\",\n        \"description\": \"\"\n      }\n    },\n    {\n      \"column\": \"relevance\",\n      \"properties\": {\n        \"dtype\": \"string\",\n        \"num_unique_values\": 4,\n        \"samples\": [\n          3,\n          \"6571\",\n          \"8000\"\n        ],\n        \"semantic_type\": \"\",\n        \"description\": \"\"\n      }\n    },\n    {\n      \"column\": \"articleid\",\n      \"properties\": {\n        \"dtype\": \"string\",\n        \"num_unique_values\": 3,\n        \"samples\": [\n          \"8000\",\n          \"wsj_398217788\",\n          \"1\"\n        ],\n        \"semantic_type\": \"\",\n        \"description\": \"\"\n      }\n    },\n    {\n      \"column\": \"date\",\n      \"properties\": {\n        \"dtype\": \"date\",\n        \"min\": \"1970-01-01 00:00:00.000000006\",\n        \"max\": \"1987-10-27 00:00:00\",\n        \"num_unique_values\": 4,\n        \"samples\": [\n          6109,\n          \"6\",\n          \"8000\"\n        ],\n        \"semantic_type\": \"\",\n        \"description\": \"\"\n      }\n    },\n    {\n      \"column\": \"headline\",\n      \"properties\": {\n        \"dtype\": \"string\",\n        \"num_unique_values\": 4,\n        \"samples\": [\n          7698,\n          \"86\",\n          \"8000\"\n        ],\n        \"semantic_type\": \"\",\n        \"description\": \"\"\n      }\n    },\n    {\n      \"column\": \"text\",\n      \"properties\": {\n        \"dtype\": \"string\",\n        \"num_unique_values\": 4,\n        \"samples\": [\n          7994,\n          \"2\",\n          \"8000\"\n        ],\n        \"semantic_type\": \"\",\n        \"description\": \"\"\n      }\n    }\n  ]\n}"
            }
          },
          "metadata": {},
          "execution_count": 9
        }
      ]
    },
    {
      "cell_type": "markdown",
      "source": [
        "### Which column is relevant?\n",
        "\n",
        "\n",
        "### Which column is useful?\n",
        "\n",
        "\n",
        "### Which column can be eliminated?\n",
        "\n"
      ],
      "metadata": {
        "id": "3H-HckDPWn2N"
      }
    },
    {
      "cell_type": "markdown",
      "source": [
        "### Our task:\n",
        "\n",
        "Each of the news is a line in the dataframe.\n",
        "the column relevance is what we need to look at, since it will tell us if the news is relevant to econonmics or not"
      ],
      "metadata": {
        "id": "KB4yEA2QW561"
      }
    },
    {
      "cell_type": "code",
      "source": [
        "df[\"relevance\"].value_counts() #here are the raw numbers"
      ],
      "metadata": {
        "colab": {
          "base_uri": "https://localhost:8080/",
          "height": 209
        },
        "id": "De3dzKH0WJFr",
        "outputId": "f2791a45-1a9a-455d-a1ea-098fdc9a34d1"
      },
      "execution_count": 10,
      "outputs": [
        {
          "output_type": "execute_result",
          "data": {
            "text/plain": [
              "relevance\n",
              "no          6571\n",
              "yes         1420\n",
              "not sure       9\n",
              "Name: count, dtype: int64"
            ],
            "text/html": [
              "<div>\n",
              "<style scoped>\n",
              "    .dataframe tbody tr th:only-of-type {\n",
              "        vertical-align: middle;\n",
              "    }\n",
              "\n",
              "    .dataframe tbody tr th {\n",
              "        vertical-align: top;\n",
              "    }\n",
              "\n",
              "    .dataframe thead th {\n",
              "        text-align: right;\n",
              "    }\n",
              "</style>\n",
              "<table border=\"1\" class=\"dataframe\">\n",
              "  <thead>\n",
              "    <tr style=\"text-align: right;\">\n",
              "      <th></th>\n",
              "      <th>count</th>\n",
              "    </tr>\n",
              "    <tr>\n",
              "      <th>relevance</th>\n",
              "      <th></th>\n",
              "    </tr>\n",
              "  </thead>\n",
              "  <tbody>\n",
              "    <tr>\n",
              "      <th>no</th>\n",
              "      <td>6571</td>\n",
              "    </tr>\n",
              "    <tr>\n",
              "      <th>yes</th>\n",
              "      <td>1420</td>\n",
              "    </tr>\n",
              "    <tr>\n",
              "      <th>not sure</th>\n",
              "      <td>9</td>\n",
              "    </tr>\n",
              "  </tbody>\n",
              "</table>\n",
              "</div><br><label><b>dtype:</b> int64</label>"
            ]
          },
          "metadata": {},
          "execution_count": 10
        }
      ]
    },
    {
      "cell_type": "code",
      "source": [
        "df[\"relevance\"].value_counts() /len(df) #here are percentage"
      ],
      "metadata": {
        "colab": {
          "base_uri": "https://localhost:8080/",
          "height": 209
        },
        "id": "F0G6_L30Wz0w",
        "outputId": "2517e2cd-c338-42e0-f7e8-eb2a3bde6aed"
      },
      "execution_count": 11,
      "outputs": [
        {
          "output_type": "execute_result",
          "data": {
            "text/plain": [
              "relevance\n",
              "no          0.821375\n",
              "yes         0.177500\n",
              "not sure    0.001125\n",
              "Name: count, dtype: float64"
            ],
            "text/html": [
              "<div>\n",
              "<style scoped>\n",
              "    .dataframe tbody tr th:only-of-type {\n",
              "        vertical-align: middle;\n",
              "    }\n",
              "\n",
              "    .dataframe tbody tr th {\n",
              "        vertical-align: top;\n",
              "    }\n",
              "\n",
              "    .dataframe thead th {\n",
              "        text-align: right;\n",
              "    }\n",
              "</style>\n",
              "<table border=\"1\" class=\"dataframe\">\n",
              "  <thead>\n",
              "    <tr style=\"text-align: right;\">\n",
              "      <th></th>\n",
              "      <th>count</th>\n",
              "    </tr>\n",
              "    <tr>\n",
              "      <th>relevance</th>\n",
              "      <th></th>\n",
              "    </tr>\n",
              "  </thead>\n",
              "  <tbody>\n",
              "    <tr>\n",
              "      <th>no</th>\n",
              "      <td>0.821375</td>\n",
              "    </tr>\n",
              "    <tr>\n",
              "      <th>yes</th>\n",
              "      <td>0.177500</td>\n",
              "    </tr>\n",
              "    <tr>\n",
              "      <th>not sure</th>\n",
              "      <td>0.001125</td>\n",
              "    </tr>\n",
              "  </tbody>\n",
              "</table>\n",
              "</div><br><label><b>dtype:</b> float64</label>"
            ]
          },
          "metadata": {},
          "execution_count": 11
        }
      ]
    },
    {
      "cell_type": "markdown",
      "source": [
        "So in this dataset, the majority, 82% is not US Economy related, only 17%. This is understandable, and also common, for most classification task. There is also a very small percent of \"not sure\", which we should ignore.\n",
        "\n",
        "Data Imbalance is really common. There are may ways to treat it, and there are ongoing debates on if treatment is necessary at all.\n",
        "\n",
        "But for now, let's focus on the binary classification task. We will relabel no as 0 (not relevant), yes as 1 (relevant).\n"
      ],
      "metadata": {
        "id": "fQJqxaOzYFbZ"
      }
    },
    {
      "cell_type": "markdown",
      "source": [
        "## Data Preprocessing"
      ],
      "metadata": {
        "id": "9YajAT32YykH"
      }
    },
    {
      "cell_type": "code",
      "source": [
        "df = df[df[\"relevance\"]!=\"not sure\"] #get rid of not sure"
      ],
      "metadata": {
        "id": "Ju4lbQ8RYE9G"
      },
      "execution_count": 12,
      "outputs": []
    },
    {
      "cell_type": "code",
      "source": [
        "df.shape #check to see if the 9 is gone. should be 7991 in the rows now"
      ],
      "metadata": {
        "colab": {
          "base_uri": "https://localhost:8080/"
        },
        "id": "V8AROJHvXzsL",
        "outputId": "3cd5af1f-877d-4bb0-91ba-7141b1119a75"
      },
      "execution_count": 13,
      "outputs": [
        {
          "output_type": "execute_result",
          "data": {
            "text/plain": [
              "(7991, 15)"
            ]
          },
          "metadata": {},
          "execution_count": 13
        }
      ]
    },
    {
      "cell_type": "code",
      "source": [
        "df[\"relevance\"] = df[\"relevance\"].map({'yes':1, 'no':0}) #mapping of yes to 1 and no to 0\n",
        "\n",
        "#since we only need some column, let's reduce the dataframe\n",
        "\n",
        "data = df[[\"text\",\"relevance\",\"headline\"]]"
      ],
      "metadata": {
        "id": "6H3mlA99ZAhT",
        "colab": {
          "base_uri": "https://localhost:8080/"
        },
        "outputId": "f50ffb4d-578d-410f-bc18-02ce59082d0d"
      },
      "execution_count": 14,
      "outputs": [
        {
          "output_type": "stream",
          "name": "stderr",
          "text": [
            "<ipython-input-14-ec082df854fc>:1: SettingWithCopyWarning: \n",
            "A value is trying to be set on a copy of a slice from a DataFrame.\n",
            "Try using .loc[row_indexer,col_indexer] = value instead\n",
            "\n",
            "See the caveats in the documentation: https://pandas.pydata.org/pandas-docs/stable/user_guide/indexing.html#returning-a-view-versus-a-copy\n",
            "  df[\"relevance\"] = df[\"relevance\"].map({'yes':1, 'no':0}) #mapping of yes to 1 and no to 0\n"
          ]
        }
      ]
    },
    {
      "cell_type": "code",
      "source": [
        "data #here is the data for analysis. now we can feel free to start precocessing the texts like we know."
      ],
      "metadata": {
        "colab": {
          "base_uri": "https://localhost:8080/",
          "height": 597
        },
        "id": "m_PhmoFcZpjx",
        "outputId": "ff7246a2-8aa3-47b9-fe9e-faf9a5716afd"
      },
      "execution_count": 15,
      "outputs": [
        {
          "output_type": "execute_result",
          "data": {
            "text/plain": [
              "                                                   text  relevance  \\\n",
              "0     NEW YORK -- Yields on most certificates of dep...          1   \n",
              "1     The Wall Street Journal Online</br></br>The Mo...          0   \n",
              "2     WASHINGTON -- In an effort to achieve banking ...          0   \n",
              "3     The statistics on the enormous costs of employ...          0   \n",
              "4     NEW YORK -- Indecision marked the dollar's ton...          1   \n",
              "...                                                 ...        ...   \n",
              "7995  Secretary of Commerce Charles W. Sawyer said y...          1   \n",
              "7996  U.S. stocks inched up last week, overcoming co...          0   \n",
              "7997  Ben S. Bernanke cleared a key hurdle Thursday ...          0   \n",
              "7998  The White House's push to contract out many fe...          0   \n",
              "7999  NEW YORK. April 17-Automobile stocks put on th...          0   \n",
              "\n",
              "                                               headline  \n",
              "0                 Yields on CDs Fell in the Latest Week  \n",
              "1     The Morning Brief: White House Seeks to Limit ...  \n",
              "2     Banking Bill Negotiators Set Compromise --- Pl...  \n",
              "3     Manager's Journal: Sniffing Out Drug Abusers I...  \n",
              "4     Currency Trading: Dollar Remains in Tight Rang...  \n",
              "...                                                 ...  \n",
              "7995  Sawyer Sees Strong Economy For 2 Years, Truce ...  \n",
              "7996                   Oil's losses are airlines' gains  \n",
              "7997  Full Senate to vote on Bernanke; PANEL ADVANCE...  \n",
              "7998                          Reinventing Opportunities  \n",
              "7999  Stocks Rise On News of Auto Output: Dow Climbs...  \n",
              "\n",
              "[7991 rows x 3 columns]"
            ],
            "text/html": [
              "\n",
              "  <div id=\"df-61d11d5d-d258-43d0-888b-dce69caf2f34\" class=\"colab-df-container\">\n",
              "    <div>\n",
              "<style scoped>\n",
              "    .dataframe tbody tr th:only-of-type {\n",
              "        vertical-align: middle;\n",
              "    }\n",
              "\n",
              "    .dataframe tbody tr th {\n",
              "        vertical-align: top;\n",
              "    }\n",
              "\n",
              "    .dataframe thead th {\n",
              "        text-align: right;\n",
              "    }\n",
              "</style>\n",
              "<table border=\"1\" class=\"dataframe\">\n",
              "  <thead>\n",
              "    <tr style=\"text-align: right;\">\n",
              "      <th></th>\n",
              "      <th>text</th>\n",
              "      <th>relevance</th>\n",
              "      <th>headline</th>\n",
              "    </tr>\n",
              "  </thead>\n",
              "  <tbody>\n",
              "    <tr>\n",
              "      <th>0</th>\n",
              "      <td>NEW YORK -- Yields on most certificates of dep...</td>\n",
              "      <td>1</td>\n",
              "      <td>Yields on CDs Fell in the Latest Week</td>\n",
              "    </tr>\n",
              "    <tr>\n",
              "      <th>1</th>\n",
              "      <td>The Wall Street Journal Online&lt;/br&gt;&lt;/br&gt;The Mo...</td>\n",
              "      <td>0</td>\n",
              "      <td>The Morning Brief: White House Seeks to Limit ...</td>\n",
              "    </tr>\n",
              "    <tr>\n",
              "      <th>2</th>\n",
              "      <td>WASHINGTON -- In an effort to achieve banking ...</td>\n",
              "      <td>0</td>\n",
              "      <td>Banking Bill Negotiators Set Compromise --- Pl...</td>\n",
              "    </tr>\n",
              "    <tr>\n",
              "      <th>3</th>\n",
              "      <td>The statistics on the enormous costs of employ...</td>\n",
              "      <td>0</td>\n",
              "      <td>Manager's Journal: Sniffing Out Drug Abusers I...</td>\n",
              "    </tr>\n",
              "    <tr>\n",
              "      <th>4</th>\n",
              "      <td>NEW YORK -- Indecision marked the dollar's ton...</td>\n",
              "      <td>1</td>\n",
              "      <td>Currency Trading: Dollar Remains in Tight Rang...</td>\n",
              "    </tr>\n",
              "    <tr>\n",
              "      <th>...</th>\n",
              "      <td>...</td>\n",
              "      <td>...</td>\n",
              "      <td>...</td>\n",
              "    </tr>\n",
              "    <tr>\n",
              "      <th>7995</th>\n",
              "      <td>Secretary of Commerce Charles W. Sawyer said y...</td>\n",
              "      <td>1</td>\n",
              "      <td>Sawyer Sees Strong Economy For 2 Years, Truce ...</td>\n",
              "    </tr>\n",
              "    <tr>\n",
              "      <th>7996</th>\n",
              "      <td>U.S. stocks inched up last week, overcoming co...</td>\n",
              "      <td>0</td>\n",
              "      <td>Oil's losses are airlines' gains</td>\n",
              "    </tr>\n",
              "    <tr>\n",
              "      <th>7997</th>\n",
              "      <td>Ben S. Bernanke cleared a key hurdle Thursday ...</td>\n",
              "      <td>0</td>\n",
              "      <td>Full Senate to vote on Bernanke; PANEL ADVANCE...</td>\n",
              "    </tr>\n",
              "    <tr>\n",
              "      <th>7998</th>\n",
              "      <td>The White House's push to contract out many fe...</td>\n",
              "      <td>0</td>\n",
              "      <td>Reinventing Opportunities</td>\n",
              "    </tr>\n",
              "    <tr>\n",
              "      <th>7999</th>\n",
              "      <td>NEW YORK. April 17-Automobile stocks put on th...</td>\n",
              "      <td>0</td>\n",
              "      <td>Stocks Rise On News of Auto Output: Dow Climbs...</td>\n",
              "    </tr>\n",
              "  </tbody>\n",
              "</table>\n",
              "<p>7991 rows × 3 columns</p>\n",
              "</div>\n",
              "    <div class=\"colab-df-buttons\">\n",
              "\n",
              "  <div class=\"colab-df-container\">\n",
              "    <button class=\"colab-df-convert\" onclick=\"convertToInteractive('df-61d11d5d-d258-43d0-888b-dce69caf2f34')\"\n",
              "            title=\"Convert this dataframe to an interactive table.\"\n",
              "            style=\"display:none;\">\n",
              "\n",
              "  <svg xmlns=\"http://www.w3.org/2000/svg\" height=\"24px\" viewBox=\"0 -960 960 960\">\n",
              "    <path d=\"M120-120v-720h720v720H120Zm60-500h600v-160H180v160Zm220 220h160v-160H400v160Zm0 220h160v-160H400v160ZM180-400h160v-160H180v160Zm440 0h160v-160H620v160ZM180-180h160v-160H180v160Zm440 0h160v-160H620v160Z\"/>\n",
              "  </svg>\n",
              "    </button>\n",
              "\n",
              "  <style>\n",
              "    .colab-df-container {\n",
              "      display:flex;\n",
              "      gap: 12px;\n",
              "    }\n",
              "\n",
              "    .colab-df-convert {\n",
              "      background-color: #E8F0FE;\n",
              "      border: none;\n",
              "      border-radius: 50%;\n",
              "      cursor: pointer;\n",
              "      display: none;\n",
              "      fill: #1967D2;\n",
              "      height: 32px;\n",
              "      padding: 0 0 0 0;\n",
              "      width: 32px;\n",
              "    }\n",
              "\n",
              "    .colab-df-convert:hover {\n",
              "      background-color: #E2EBFA;\n",
              "      box-shadow: 0px 1px 2px rgba(60, 64, 67, 0.3), 0px 1px 3px 1px rgba(60, 64, 67, 0.15);\n",
              "      fill: #174EA6;\n",
              "    }\n",
              "\n",
              "    .colab-df-buttons div {\n",
              "      margin-bottom: 4px;\n",
              "    }\n",
              "\n",
              "    [theme=dark] .colab-df-convert {\n",
              "      background-color: #3B4455;\n",
              "      fill: #D2E3FC;\n",
              "    }\n",
              "\n",
              "    [theme=dark] .colab-df-convert:hover {\n",
              "      background-color: #434B5C;\n",
              "      box-shadow: 0px 1px 3px 1px rgba(0, 0, 0, 0.15);\n",
              "      filter: drop-shadow(0px 1px 2px rgba(0, 0, 0, 0.3));\n",
              "      fill: #FFFFFF;\n",
              "    }\n",
              "  </style>\n",
              "\n",
              "    <script>\n",
              "      const buttonEl =\n",
              "        document.querySelector('#df-61d11d5d-d258-43d0-888b-dce69caf2f34 button.colab-df-convert');\n",
              "      buttonEl.style.display =\n",
              "        google.colab.kernel.accessAllowed ? 'block' : 'none';\n",
              "\n",
              "      async function convertToInteractive(key) {\n",
              "        const element = document.querySelector('#df-61d11d5d-d258-43d0-888b-dce69caf2f34');\n",
              "        const dataTable =\n",
              "          await google.colab.kernel.invokeFunction('convertToInteractive',\n",
              "                                                    [key], {});\n",
              "        if (!dataTable) return;\n",
              "\n",
              "        const docLinkHtml = 'Like what you see? Visit the ' +\n",
              "          '<a target=\"_blank\" href=https://colab.research.google.com/notebooks/data_table.ipynb>data table notebook</a>'\n",
              "          + ' to learn more about interactive tables.';\n",
              "        element.innerHTML = '';\n",
              "        dataTable['output_type'] = 'display_data';\n",
              "        await google.colab.output.renderOutput(dataTable, element);\n",
              "        const docLink = document.createElement('div');\n",
              "        docLink.innerHTML = docLinkHtml;\n",
              "        element.appendChild(docLink);\n",
              "      }\n",
              "    </script>\n",
              "  </div>\n",
              "\n",
              "\n",
              "<div id=\"df-f3a36462-8eaf-4210-b09f-5a9424a3b3c2\">\n",
              "  <button class=\"colab-df-quickchart\" onclick=\"quickchart('df-f3a36462-8eaf-4210-b09f-5a9424a3b3c2')\"\n",
              "            title=\"Suggest charts\"\n",
              "            style=\"display:none;\">\n",
              "\n",
              "<svg xmlns=\"http://www.w3.org/2000/svg\" height=\"24px\"viewBox=\"0 0 24 24\"\n",
              "     width=\"24px\">\n",
              "    <g>\n",
              "        <path d=\"M19 3H5c-1.1 0-2 .9-2 2v14c0 1.1.9 2 2 2h14c1.1 0 2-.9 2-2V5c0-1.1-.9-2-2-2zM9 17H7v-7h2v7zm4 0h-2V7h2v10zm4 0h-2v-4h2v4z\"/>\n",
              "    </g>\n",
              "</svg>\n",
              "  </button>\n",
              "\n",
              "<style>\n",
              "  .colab-df-quickchart {\n",
              "      --bg-color: #E8F0FE;\n",
              "      --fill-color: #1967D2;\n",
              "      --hover-bg-color: #E2EBFA;\n",
              "      --hover-fill-color: #174EA6;\n",
              "      --disabled-fill-color: #AAA;\n",
              "      --disabled-bg-color: #DDD;\n",
              "  }\n",
              "\n",
              "  [theme=dark] .colab-df-quickchart {\n",
              "      --bg-color: #3B4455;\n",
              "      --fill-color: #D2E3FC;\n",
              "      --hover-bg-color: #434B5C;\n",
              "      --hover-fill-color: #FFFFFF;\n",
              "      --disabled-bg-color: #3B4455;\n",
              "      --disabled-fill-color: #666;\n",
              "  }\n",
              "\n",
              "  .colab-df-quickchart {\n",
              "    background-color: var(--bg-color);\n",
              "    border: none;\n",
              "    border-radius: 50%;\n",
              "    cursor: pointer;\n",
              "    display: none;\n",
              "    fill: var(--fill-color);\n",
              "    height: 32px;\n",
              "    padding: 0;\n",
              "    width: 32px;\n",
              "  }\n",
              "\n",
              "  .colab-df-quickchart:hover {\n",
              "    background-color: var(--hover-bg-color);\n",
              "    box-shadow: 0 1px 2px rgba(60, 64, 67, 0.3), 0 1px 3px 1px rgba(60, 64, 67, 0.15);\n",
              "    fill: var(--button-hover-fill-color);\n",
              "  }\n",
              "\n",
              "  .colab-df-quickchart-complete:disabled,\n",
              "  .colab-df-quickchart-complete:disabled:hover {\n",
              "    background-color: var(--disabled-bg-color);\n",
              "    fill: var(--disabled-fill-color);\n",
              "    box-shadow: none;\n",
              "  }\n",
              "\n",
              "  .colab-df-spinner {\n",
              "    border: 2px solid var(--fill-color);\n",
              "    border-color: transparent;\n",
              "    border-bottom-color: var(--fill-color);\n",
              "    animation:\n",
              "      spin 1s steps(1) infinite;\n",
              "  }\n",
              "\n",
              "  @keyframes spin {\n",
              "    0% {\n",
              "      border-color: transparent;\n",
              "      border-bottom-color: var(--fill-color);\n",
              "      border-left-color: var(--fill-color);\n",
              "    }\n",
              "    20% {\n",
              "      border-color: transparent;\n",
              "      border-left-color: var(--fill-color);\n",
              "      border-top-color: var(--fill-color);\n",
              "    }\n",
              "    30% {\n",
              "      border-color: transparent;\n",
              "      border-left-color: var(--fill-color);\n",
              "      border-top-color: var(--fill-color);\n",
              "      border-right-color: var(--fill-color);\n",
              "    }\n",
              "    40% {\n",
              "      border-color: transparent;\n",
              "      border-right-color: var(--fill-color);\n",
              "      border-top-color: var(--fill-color);\n",
              "    }\n",
              "    60% {\n",
              "      border-color: transparent;\n",
              "      border-right-color: var(--fill-color);\n",
              "    }\n",
              "    80% {\n",
              "      border-color: transparent;\n",
              "      border-right-color: var(--fill-color);\n",
              "      border-bottom-color: var(--fill-color);\n",
              "    }\n",
              "    90% {\n",
              "      border-color: transparent;\n",
              "      border-bottom-color: var(--fill-color);\n",
              "    }\n",
              "  }\n",
              "</style>\n",
              "\n",
              "  <script>\n",
              "    async function quickchart(key) {\n",
              "      const quickchartButtonEl =\n",
              "        document.querySelector('#' + key + ' button');\n",
              "      quickchartButtonEl.disabled = true;  // To prevent multiple clicks.\n",
              "      quickchartButtonEl.classList.add('colab-df-spinner');\n",
              "      try {\n",
              "        const charts = await google.colab.kernel.invokeFunction(\n",
              "            'suggestCharts', [key], {});\n",
              "      } catch (error) {\n",
              "        console.error('Error during call to suggestCharts:', error);\n",
              "      }\n",
              "      quickchartButtonEl.classList.remove('colab-df-spinner');\n",
              "      quickchartButtonEl.classList.add('colab-df-quickchart-complete');\n",
              "    }\n",
              "    (() => {\n",
              "      let quickchartButtonEl =\n",
              "        document.querySelector('#df-f3a36462-8eaf-4210-b09f-5a9424a3b3c2 button');\n",
              "      quickchartButtonEl.style.display =\n",
              "        google.colab.kernel.accessAllowed ? 'block' : 'none';\n",
              "    })();\n",
              "  </script>\n",
              "</div>\n",
              "\n",
              "  <div id=\"id_54b16b8c-7c5d-4508-a3bf-383d7c6d2044\">\n",
              "    <style>\n",
              "      .colab-df-generate {\n",
              "        background-color: #E8F0FE;\n",
              "        border: none;\n",
              "        border-radius: 50%;\n",
              "        cursor: pointer;\n",
              "        display: none;\n",
              "        fill: #1967D2;\n",
              "        height: 32px;\n",
              "        padding: 0 0 0 0;\n",
              "        width: 32px;\n",
              "      }\n",
              "\n",
              "      .colab-df-generate:hover {\n",
              "        background-color: #E2EBFA;\n",
              "        box-shadow: 0px 1px 2px rgba(60, 64, 67, 0.3), 0px 1px 3px 1px rgba(60, 64, 67, 0.15);\n",
              "        fill: #174EA6;\n",
              "      }\n",
              "\n",
              "      [theme=dark] .colab-df-generate {\n",
              "        background-color: #3B4455;\n",
              "        fill: #D2E3FC;\n",
              "      }\n",
              "\n",
              "      [theme=dark] .colab-df-generate:hover {\n",
              "        background-color: #434B5C;\n",
              "        box-shadow: 0px 1px 3px 1px rgba(0, 0, 0, 0.15);\n",
              "        filter: drop-shadow(0px 1px 2px rgba(0, 0, 0, 0.3));\n",
              "        fill: #FFFFFF;\n",
              "      }\n",
              "    </style>\n",
              "    <button class=\"colab-df-generate\" onclick=\"generateWithVariable('data')\"\n",
              "            title=\"Generate code using this dataframe.\"\n",
              "            style=\"display:none;\">\n",
              "\n",
              "  <svg xmlns=\"http://www.w3.org/2000/svg\" height=\"24px\"viewBox=\"0 0 24 24\"\n",
              "       width=\"24px\">\n",
              "    <path d=\"M7,19H8.4L18.45,9,17,7.55,7,17.6ZM5,21V16.75L18.45,3.32a2,2,0,0,1,2.83,0l1.4,1.43a1.91,1.91,0,0,1,.58,1.4,1.91,1.91,0,0,1-.58,1.4L9.25,21ZM18.45,9,17,7.55Zm-12,3A5.31,5.31,0,0,0,4.9,8.1,5.31,5.31,0,0,0,1,6.5,5.31,5.31,0,0,0,4.9,4.9,5.31,5.31,0,0,0,6.5,1,5.31,5.31,0,0,0,8.1,4.9,5.31,5.31,0,0,0,12,6.5,5.46,5.46,0,0,0,6.5,12Z\"/>\n",
              "  </svg>\n",
              "    </button>\n",
              "    <script>\n",
              "      (() => {\n",
              "      const buttonEl =\n",
              "        document.querySelector('#id_54b16b8c-7c5d-4508-a3bf-383d7c6d2044 button.colab-df-generate');\n",
              "      buttonEl.style.display =\n",
              "        google.colab.kernel.accessAllowed ? 'block' : 'none';\n",
              "\n",
              "      buttonEl.onclick = () => {\n",
              "        google.colab.notebook.generateWithVariable('data');\n",
              "      }\n",
              "      })();\n",
              "    </script>\n",
              "  </div>\n",
              "\n",
              "    </div>\n",
              "  </div>\n"
            ],
            "application/vnd.google.colaboratory.intrinsic+json": {
              "type": "dataframe",
              "variable_name": "data",
              "summary": "{\n  \"name\": \"data\",\n  \"rows\": 7991,\n  \"fields\": [\n    {\n      \"column\": \"text\",\n      \"properties\": {\n        \"dtype\": \"string\",\n        \"num_unique_values\": 7985,\n        \"samples\": [\n          \"2\\t- billion - dollar drop in | gross national\\\" product for the! third quarter* was announced Nossiter</br></br>The decline itself was small. Total output of goods and services was estimated by the President\\u0089\\u00db\\u00aas Council of Economic Advisers at a yearly rate of $503 billion compared to $505 billion in the April-June period.</br></br>But a closer look at the figures\\u0089\\u00db\\u00d3which added up to the first output slump in two and a half years that couldn\\u0089\\u00db\\u00aat be traced to a strike\\u0089\\u00db\\u00d3increased the gloom.</br></br>After the long line of weaker business reports in September, virtually the last of the optimists are now found in the Administration\\u0089\\u00db\\u00aas inner circle.</br></br>Raymond J. Saulnier, chairman of the President\\u0089\\u00db\\u00aas Council, told a reporter yesterday, \\u0089\\u00db\\u00cfI do not see a basis in these figures for the recession talk that has become so widespread recently and which is, I fear, having some retarding effect on our economy.\\u0089\\u00db\\u009d \\u0089\\u00db\\u00a2 Real output of goods and services\\u0089\\u00db\\u00d3gross national product stripped of price inflation \\u0089\\u00db\\u00d3was lower in the third quarter than in the first or second. The yearly pace, expressed in constant, 1959 dollars went from $495.9 billion in the Jan-uary-March period to $497.4\",\n          \"NEW YORK -- The dollar advanced sharply against several key rivals Friday after the U.S. Labor Department reported that the April unemployment rate fell to 5.0% and 20,000 jobs were lost, far fewer than expected.</br></br>The euro declined by more than a full U.S. cent to $1.5360, its lowest level in more than a month. This comes a week after the currency climbed to a historical high of $1.6020. Also Friday, the dollar increased to its highest level since February against the yen.</br></br>U.S. employment fell in April for the fourth-straight month, but at a much slower pace than previously, suggesting the economy may be starting to find its footing after several months of stagnation. The dollar took this as positive news.</br></br>\\\"The underlying nonfarm number was way better than the average market expectations,\\\" especially as markets priced in room for even deeper disappointment just before the report's release, said Tom Fitzpatrick, global head of currency strategy at Citigroup in New York. The report \\\"will probably help the dollar in the short term.\\\"</br></br>The data included a surprising decline in the jobless rate and supported expectations that the Federal Reserve will keep official interest rates steady for an extended period as it gauges the effect of past rate cuts and recent credit initiatives on financial markets and the economy.\",\n          \"A \\u0089\\u00db\\u00f7\\u0089\\u00db\\u00f7controlled implosion\\u0089\\u00db\\u009d (top) begins to crumble the 16-story Carlton House Hotel in downtown Pittsburgh Saturday morning. The 28-vear-old building is being razed to make way for Renaissance II, the second phase of a major redevelopment of the city. Thick smoke billows from the building (center) as more than 1,000 explosive charges do their work. Seven seconds after it began, the demolition is completed (bottom). Construction of a 52-story office building has been proposed in place of the hotel, where former Soviet Premier Khrushchev stayed while visiting the city during his tour of the United States in 1959.</br></br>ROANOKE (UPI)\\u0089\\u00db\\u00d3Industry analysts believe recent labor unrest and other problems in Poland, South Africa and Australia may lead foreign coal buyers to depend more heavily on the United States than in recent years.</br></br>Poland\\u0089\\u00db\\u00aas labor changes, racial unrest in South Africa and a major miners\\u0089\\u00db\\u00aa strike in Australia\\u0089\\u00db\\u00d3the world\\u0089\\u00db\\u00aas three largest coal exporters behind the United States\\u0089\\u00db\\u00d3are spreading the he-' lief that the United States may be t he most stable source of coal, analysts' said.</br></br>\\u0089\\u00db\\u00cfThe United States\\u0089\\u00db\\u00aa image as a coal supplier has made a big comeback. Our problems are beginning to pale in com-parispn (with other coal exporters),\\u0089\\u00db\\u009d said Jack Kawa, a coal analyst with. Wheat, First Securities.</br></br>\\u0089\\u00db\\u00cfThe outlook for I he U.S. export is getting stronger and stronger as the world turns to coal. Customers are turning towards American coal,\\u0089\\u00db\\u009d ho said.\"\n        ],\n        \"semantic_type\": \"\",\n        \"description\": \"\"\n      }\n    },\n    {\n      \"column\": \"relevance\",\n      \"properties\": {\n        \"dtype\": \"number\",\n        \"std\": 0,\n        \"min\": 0,\n        \"max\": 1,\n        \"num_unique_values\": 2,\n        \"samples\": [\n          0,\n          1\n        ],\n        \"semantic_type\": \"\",\n        \"description\": \"\"\n      }\n    },\n    {\n      \"column\": \"headline\",\n      \"properties\": {\n        \"dtype\": \"string\",\n        \"num_unique_values\": 7690,\n        \"samples\": [\n          \"Credit Cards: Card Issuers Turn to Stealing Customers\",\n          \"Fed's Fisher Pins Slow Growth on Politicians\"\n        ],\n        \"semantic_type\": \"\",\n        \"description\": \"\"\n      }\n    }\n  ]\n}"
            }
          },
          "metadata": {},
          "execution_count": 15
        }
      ]
    },
    {
      "cell_type": "code",
      "source": [
        "#let's take a look at some data\n",
        "\n",
        "data.loc[2,\"text\"] #here is the third line data"
      ],
      "metadata": {
        "colab": {
          "base_uri": "https://localhost:8080/",
          "height": 226
        },
        "id": "JyJPZSVhZ1Cv",
        "outputId": "5e9c1406-16d5-4ea6-df88-b68fcb9a56e3"
      },
      "execution_count": 16,
      "outputs": [
        {
          "output_type": "execute_result",
          "data": {
            "text/plain": [
              "\"WASHINGTON -- In an effort to achieve banking reform, Senate negotiators and the Bush administration have agreed to drop efforts to allow banks to expand further into the securities business.</br></br>The compromise is one of several the Senate Banking Committee is pursuing to remove obstacles its banking bill will face when the Senate starts voting on the measure, perhaps today. The latest version of the House banking bill also drops the administration's proposals to broaden bank entry into the securities business.</br></br>Last night, the House began its second attempt to pass a banking bill after failing last week, in part because of disagreement over how to allow banks into the securities business. The House adopted on a voice vote provisions that would replenish the bank deposit insurance fund, tighten bank regulation, trim the scope of deposit insurance, and restrict the Federal Reserve Board's ability to keep sick banks alive with loans.</br></br>But the House delayed until today a vote on an amendment to allow banks to branch nationwide and on final passage of the banking bill to give the House leadership and the administration more time to drum up support for the bill.</br></br>House Speaker Thomas Foley (D., Wash.) is working hard to win passage of the bill in the face of significant opposition from Rep. John Dingell (D., Mich.), who believes the bill should include provisions imposing stiffer regulation on banks in the securities business.\""
            ],
            "application/vnd.google.colaboratory.intrinsic+json": {
              "type": "string"
            }
          },
          "metadata": {},
          "execution_count": 16
        }
      ]
    },
    {
      "cell_type": "code",
      "source": [
        "stop_words_nltk = set(stopwords.words('english'))\n",
        "def clean(doc): # doc is a string of text\n",
        "\n",
        "    pdoc = doc.replace(\"</br>\", \" \")\n",
        "    pdoc= pdoc.split()\n",
        "    pdoc = [char for char in pdoc if char not in string.punctuation and not char.isdigit()]\n",
        "    pdoc = [token for token in pdoc if token not in stop_words_nltk]\n",
        "    pdoc = \" \".join(pdoc) #join all the elements from the list with each other again, separated by space\n",
        "    return pdoc"
      ],
      "metadata": {
        "id": "HYLxVVyDZ5zs"
      },
      "execution_count": 17,
      "outputs": []
    },
    {
      "cell_type": "code",
      "source": [
        "df[\"text\"] = df[\"text\"].apply(lambda row : clean(row))"
      ],
      "metadata": {
        "id": "9PgVy3nSb5YL"
      },
      "execution_count": 18,
      "outputs": []
    },
    {
      "cell_type": "code",
      "source": [
        "df[\"text\"] #text looks ok for now, let's go to model"
      ],
      "metadata": {
        "colab": {
          "base_uri": "https://localhost:8080/",
          "height": 458
        },
        "id": "u6aBHF9WcyeS",
        "outputId": "d94cdcda-a066-45f2-c02f-e500c02537e4"
      },
      "execution_count": 19,
      "outputs": [
        {
          "output_type": "execute_result",
          "data": {
            "text/plain": [
              "0       NEW YORK -- Yields certificates deposit offere...\n",
              "1       The Wall Street Journal Online The Morning Bri...\n",
              "2       WASHINGTON -- In effort achieve banking reform...\n",
              "3       The statistics enormous costs employee drug ab...\n",
              "4       NEW YORK -- Indecision marked dollar's tone, t...\n",
              "                              ...                        \n",
              "7995    Secretary Commerce Charles W. Sawyer said yest...\n",
              "7996    U.S. stocks inched last week, overcoming conce...\n",
              "7997    Ben S. Bernanke cleared key hurdle Thursday co...\n",
              "7998    The White House's push contract many federal f...\n",
              "7999    NEW YORK. April 17-Automobile stocks put best ...\n",
              "Name: text, Length: 7991, dtype: object"
            ],
            "text/html": [
              "<div>\n",
              "<style scoped>\n",
              "    .dataframe tbody tr th:only-of-type {\n",
              "        vertical-align: middle;\n",
              "    }\n",
              "\n",
              "    .dataframe tbody tr th {\n",
              "        vertical-align: top;\n",
              "    }\n",
              "\n",
              "    .dataframe thead th {\n",
              "        text-align: right;\n",
              "    }\n",
              "</style>\n",
              "<table border=\"1\" class=\"dataframe\">\n",
              "  <thead>\n",
              "    <tr style=\"text-align: right;\">\n",
              "      <th></th>\n",
              "      <th>text</th>\n",
              "    </tr>\n",
              "  </thead>\n",
              "  <tbody>\n",
              "    <tr>\n",
              "      <th>0</th>\n",
              "      <td>NEW YORK -- Yields certificates deposit offere...</td>\n",
              "    </tr>\n",
              "    <tr>\n",
              "      <th>1</th>\n",
              "      <td>The Wall Street Journal Online The Morning Bri...</td>\n",
              "    </tr>\n",
              "    <tr>\n",
              "      <th>2</th>\n",
              "      <td>WASHINGTON -- In effort achieve banking reform...</td>\n",
              "    </tr>\n",
              "    <tr>\n",
              "      <th>3</th>\n",
              "      <td>The statistics enormous costs employee drug ab...</td>\n",
              "    </tr>\n",
              "    <tr>\n",
              "      <th>4</th>\n",
              "      <td>NEW YORK -- Indecision marked dollar's tone, t...</td>\n",
              "    </tr>\n",
              "    <tr>\n",
              "      <th>...</th>\n",
              "      <td>...</td>\n",
              "    </tr>\n",
              "    <tr>\n",
              "      <th>7995</th>\n",
              "      <td>Secretary Commerce Charles W. Sawyer said yest...</td>\n",
              "    </tr>\n",
              "    <tr>\n",
              "      <th>7996</th>\n",
              "      <td>U.S. stocks inched last week, overcoming conce...</td>\n",
              "    </tr>\n",
              "    <tr>\n",
              "      <th>7997</th>\n",
              "      <td>Ben S. Bernanke cleared key hurdle Thursday co...</td>\n",
              "    </tr>\n",
              "    <tr>\n",
              "      <th>7998</th>\n",
              "      <td>The White House's push contract many federal f...</td>\n",
              "    </tr>\n",
              "    <tr>\n",
              "      <th>7999</th>\n",
              "      <td>NEW YORK. April 17-Automobile stocks put best ...</td>\n",
              "    </tr>\n",
              "  </tbody>\n",
              "</table>\n",
              "<p>7991 rows × 1 columns</p>\n",
              "</div><br><label><b>dtype:</b> object</label>"
            ]
          },
          "metadata": {},
          "execution_count": 19
        }
      ]
    },
    {
      "cell_type": "markdown",
      "source": [
        "## Modeling\n",
        "\n",
        "Modeling usually follows the same step,\n",
        "\n",
        "1) Split data to train and test (80/20 is the rule of thumb, but you can change this ratio)\n",
        "\n",
        "2) Create feature out of text. This time we use BoW , so we use CountVectorizer to creat ehe feature\n",
        "\n",
        "3) transform both test and train data the same way\n",
        "\n",
        "4) train the classifier\n",
        "\n",
        "5) evaluate the classifier\n",
        "\n"
      ],
      "metadata": {
        "id": "tByCNLPagZAj"
      }
    },
    {
      "cell_type": "code",
      "source": [
        "# Step 1: train-test split\n",
        "X = data.text # the column text contains textual data to extract features from\n",
        "y = data.relevance # this is the column we are learning to predict.\n",
        "print(X.shape, y.shape)\n",
        "# split X and y into training and testing sets. By default, it splits 75% training and 25% test\n",
        "# random_state=1 for reproducibility\n",
        "X_train, X_test, y_train, y_test = train_test_split(X, y, random_state=1, test_size=0.25)\n",
        "print(X_train.shape, y_train.shape) #check to seee if the\n",
        "print(X_test.shape, y_test.shape)"
      ],
      "metadata": {
        "colab": {
          "base_uri": "https://localhost:8080/"
        },
        "id": "IVU9zyt-jUwU",
        "outputId": "a872dc1a-3449-4370-acbe-1c3a2ad083c4"
      },
      "execution_count": 20,
      "outputs": [
        {
          "output_type": "stream",
          "name": "stdout",
          "text": [
            "(7991,) (7991,)\n",
            "(5993,) (5993,)\n",
            "(1998,) (1998,)\n"
          ]
        }
      ]
    },
    {
      "cell_type": "code",
      "source": [
        "# Step 2-3: Preprocess and Vectorize train and test data\n",
        "vect = CountVectorizer(preprocessor=clean) # instantiate a vectoriezer\n",
        "X_train_dtm = vect.fit_transform(X_train)# use it to extract features from training data\n",
        "# transform testing data (using training data's features)\n",
        "X_test_dtm = vect.transform(X_test)\n",
        "print(X_train_dtm.shape, X_test_dtm.shape)\n",
        "# i.e., the dimension of our feature vector is 49753!"
      ],
      "metadata": {
        "colab": {
          "base_uri": "https://localhost:8080/"
        },
        "id": "g4GfoCY4q2jj",
        "outputId": "c6731960-2719-4e08-91a6-c9902a19314d"
      },
      "execution_count": 21,
      "outputs": [
        {
          "output_type": "stream",
          "name": "stdout",
          "text": [
            "(5993, 45758) (1998, 45758)\n"
          ]
        }
      ]
    },
    {
      "cell_type": "code",
      "source": [
        "# Step 3: Train the classifier and predict for test data\n",
        "%time\n",
        "nb = MultinomialNB() # instantiate a Multinomial Naive Bayes model\n",
        "nb.fit(X_train_dtm, y_train) # train the model(timing it with an IPython \"magic command\")\n",
        "y_pred_class = nb.predict(X_test_dtm) # make class predictions for X_test_dtm"
      ],
      "metadata": {
        "colab": {
          "base_uri": "https://localhost:8080/"
        },
        "id": "bqplGUB1rVuZ",
        "outputId": "886f2e5e-edec-4dfd-df14-ba183e1f5b75"
      },
      "execution_count": 22,
      "outputs": [
        {
          "output_type": "stream",
          "name": "stdout",
          "text": [
            "CPU times: user 4 µs, sys: 0 ns, total: 4 µs\n",
            "Wall time: 9.06 µs\n"
          ]
        }
      ]
    },
    {
      "cell_type": "code",
      "source": [
        "def plot_confusion_matrix(cm, classes,\n",
        "                          normalize=False,\n",
        "                          title='Confusion matrix',\n",
        "                          cmap=plt.cm.Blues):\n",
        "    \"\"\"\n",
        "    This function prints and plots the confusion matrix.\n",
        "    Normalization can be applied by setting `normalize=True`.\n",
        "    \"\"\"\n",
        "    if normalize:\n",
        "        cm = cm.astype('float') / cm.sum(axis=1)[:, np.newaxis]\n",
        "\n",
        "    plt.imshow(cm, interpolation='nearest', cmap=cmap)\n",
        "    plt.title(title)\n",
        "    plt.colorbar()\n",
        "    tick_marks = np.arange(len(classes))\n",
        "    plt.xticks(tick_marks, classes, rotation=45)\n",
        "    plt.yticks(tick_marks, classes)\n",
        "\n",
        "    fmt = '.2f' if normalize else 'd'\n",
        "    thresh = cm.max() / 2.\n",
        "    for i, j in itertools.product(range(cm.shape[0]), range(cm.shape[1])):\n",
        "        plt.text(j, i, format(cm[i, j], fmt),\n",
        "                 horizontalalignment=\"center\",\n",
        "                 color=\"white\" if cm[i, j] > thresh else \"black\")\n",
        "\n",
        "    plt.tight_layout()\n",
        "    plt.ylabel('True label',fontsize=15)\n",
        "    plt.xlabel('Predicted label',fontsize=15)\n",
        "\n",
        "\n"
      ],
      "metadata": {
        "id": "yQGgHIfvrdBR"
      },
      "execution_count": 23,
      "outputs": []
    },
    {
      "cell_type": "code",
      "source": [
        "# Print accuracy:\n",
        "print(\"Accuracy: \", accuracy_score(y_test, y_pred_class))\n",
        "\n",
        "\n",
        "# print the confusion matrix\n",
        "cnf_matrix = confusion_matrix(y_test, y_pred_class)\n",
        "plt.figure(figsize=(8,6))\n",
        "plot_confusion_matrix(cnf_matrix, classes=['Not Relevant','Relevant'],normalize=True,\n",
        "                      title='Confusion matrix with all features')\n",
        "\n",
        "# calculate AUC: Area under the curve(AUC) gives idea about the model efficiency:\n",
        "# Further information: https://en.wikipedia.org/wiki/Receiver_operating_characteristic\n",
        "y_pred_prob = nb.predict_proba(X_test_dtm)[:, 1]\n",
        "print(\"ROC_AOC_Score: \", metrics.roc_auc_score(y_test, y_pred_prob))"
      ],
      "metadata": {
        "colab": {
          "base_uri": "https://localhost:8080/",
          "height": 660
        },
        "id": "L1w2wsLfaSZz",
        "outputId": "17d8eadf-db6a-4128-d37e-20b9f25f3c7b"
      },
      "execution_count": 24,
      "outputs": [
        {
          "output_type": "stream",
          "name": "stdout",
          "text": [
            "Accuracy:  0.7602602602602603\n",
            "ROC_AOC_Score:  0.7217578467101732\n"
          ]
        },
        {
          "output_type": "display_data",
          "data": {
            "text/plain": [
              "<Figure size 800x600 with 2 Axes>"
            ],
            "image/png": "[encoded data removed]"
          },
          "metadata": {}
        }
      ]
    },
    {
      "cell_type": "code",
      "source": [
        "print(metrics.classification_report(y_test, y_pred_class))"
      ],
      "metadata": {
        "colab": {
          "base_uri": "https://localhost:8080/"
        },
        "id": "9DyOA1pgbGS9",
        "outputId": "154b704b-a0a4-4d36-b627-3e5dbcbba841"
      },
      "execution_count": 25,
      "outputs": [
        {
          "output_type": "stream",
          "name": "stdout",
          "text": [
            "              precision    recall  f1-score   support\n",
            "\n",
            "           0       0.88      0.82      0.85      1656\n",
            "           1       0.35      0.45      0.39       342\n",
            "\n",
            "    accuracy                           0.76      1998\n",
            "   macro avg       0.61      0.64      0.62      1998\n",
            "weighted avg       0.79      0.76      0.77      1998\n",
            "\n"
          ]
        }
      ]
    },
    {
      "cell_type": "markdown",
      "source": [
        "## Lime"
      ],
      "metadata": {
        "id": "XCTZ5OJy4cJV"
      }
    },
    {
      "cell_type": "code",
      "source": [
        "!pip install lime"
      ],
      "metadata": {
        "colab": {
          "base_uri": "https://localhost:8080/"
        },
        "id": "pJMT-dG_4m0V",
        "outputId": "e61d0273-a4ad-4075-f6d8-7372729a6c4f"
      },
      "execution_count": 26,
      "outputs": [
        {
          "output_type": "stream",
          "name": "stdout",
          "text": [
            "Collecting lime\n",
            "  Downloading lime-0.2.0.1.tar.gz (275 kB)\n",
            "\u001b[?25l     \u001b[90m━━━━━━━━━━━━━━━━━━━━━━━━━━━━━━━━━━━━━━━━\u001b[0m \u001b[32m0.0/275.7 kB\u001b[0m \u001b[31m?\u001b[0m eta \u001b[36m-:--:--\u001b[0m\r\u001b[2K     \u001b[91m━━━━━━━━━━━━━━━━━━━━━━━━━━━━\u001b[0m\u001b[90m╺\u001b[0m\u001b[90m━━━━━━━━━━━\u001b[0m \u001b[32m194.6/275.7 kB\u001b[0m \u001b[31m6.5 MB/s\u001b[0m eta \u001b[36m0:00:01\u001b[0m\r\u001b[2K     \u001b[90m━━━━━━━━━━━━━━━━━━━━━━━━━━━━━━━━━━━━━━━━\u001b[0m \u001b[32m275.7/275.7 kB\u001b[0m \u001b[31m4.3 MB/s\u001b[0m eta \u001b[36m0:00:00\u001b[0m\n",
            "\u001b[?25h  Preparing metadata (setup.py) ... \u001b[?25l\u001b[?25hdone\n",
            "Requirement already satisfied: matplotlib in /usr/local/lib/python3.11/dist-packages (from lime) (3.10.0)\n",
            "Requirement already satisfied: numpy in /usr/local/lib/python3.11/dist-packages (from lime) (1.26.4)\n",
            "Requirement already satisfied: scipy in /usr/local/lib/python3.11/dist-packages (from lime) (1.13.1)\n",
            "Requirement already satisfied: tqdm in /usr/local/lib/python3.11/dist-packages (from lime) (4.67.1)\n",
            "Requirement already satisfied: scikit-learn>=0.18 in /usr/local/lib/python3.11/dist-packages (from lime) (1.6.1)\n",
            "Requirement already satisfied: scikit-image>=0.12 in /usr/local/lib/python3.11/dist-packages (from lime) (0.25.1)\n",
            "Requirement already satisfied: networkx>=3.0 in /usr/local/lib/python3.11/dist-packages (from scikit-image>=0.12->lime) (3.4.2)\n",
            "Requirement already satisfied: pillow>=10.1 in /usr/local/lib/python3.11/dist-packages (from scikit-image>=0.12->lime) (11.1.0)\n",
            "Requirement already satisfied: imageio!=2.35.0,>=2.33 in /usr/local/lib/python3.11/dist-packages (from scikit-image>=0.12->lime) (2.37.0)\n",
            "Requirement already satisfied: tifffile>=2022.8.12 in /usr/local/lib/python3.11/dist-packages (from scikit-image>=0.12->lime) (2025.1.10)\n",
            "Requirement already satisfied: packaging>=21 in /usr/local/lib/python3.11/dist-packages (from scikit-image>=0.12->lime) (24.2)\n",
            "Requirement already satisfied: lazy-loader>=0.4 in /usr/local/lib/python3.11/dist-packages (from scikit-image>=0.12->lime) (0.4)\n",
            "Requirement already satisfied: joblib>=1.2.0 in /usr/local/lib/python3.11/dist-packages (from scikit-learn>=0.18->lime) (1.4.2)\n",
            "Requirement already satisfied: threadpoolctl>=3.1.0 in /usr/local/lib/python3.11/dist-packages (from scikit-learn>=0.18->lime) (3.5.0)\n",
            "Requirement already satisfied: contourpy>=1.0.1 in /usr/local/lib/python3.11/dist-packages (from matplotlib->lime) (1.3.1)\n",
            "Requirement already satisfied: cycler>=0.10 in /usr/local/lib/python3.11/dist-packages (from matplotlib->lime) (0.12.1)\n",
            "Requirement already satisfied: fonttools>=4.22.0 in /usr/local/lib/python3.11/dist-packages (from matplotlib->lime) (4.55.8)\n",
            "Requirement already satisfied: kiwisolver>=1.3.1 in /usr/local/lib/python3.11/dist-packages (from matplotlib->lime) (1.4.8)\n",
            "Requirement already satisfied: pyparsing>=2.3.1 in /usr/local/lib/python3.11/dist-packages (from matplotlib->lime) (3.2.1)\n",
            "Requirement already satisfied: python-dateutil>=2.7 in /usr/local/lib/python3.11/dist-packages (from matplotlib->lime) (2.8.2)\n",
            "Requirement already satisfied: six>=1.5 in /usr/local/lib/python3.11/dist-packages (from python-dateutil>=2.7->matplotlib->lime) (1.17.0)\n",
            "Building wheels for collected packages: lime\n",
            "  Building wheel for lime (setup.py) ... \u001b[?25l\u001b[?25hdone\n",
            "  Created wheel for lime: filename=lime-0.2.0.1-py3-none-any.whl size=283834 sha256=902869ddc7e63ed0d31344baff1f1f4a05acb4a9f2088b4cbf29a40d0c02492c\n",
            "  Stored in directory: /root/.cache/pip/wheels/85/fa/a3/9c2d44c9f3cd77cf4e533b58900b2bf4487f2a17e8ec212a3d\n",
            "Successfully built lime\n",
            "Installing collected packages: lime\n",
            "Successfully installed lime-0.2.0.1\n"
          ]
        }
      ]
    },
    {
      "cell_type": "code",
      "source": [
        "from lime import lime_text\n",
        "from lime.lime_text import LimeTextExplainer\n",
        "from sklearn.pipeline import make_pipeline\n"
      ],
      "metadata": {
        "id": "PeK0OUod5r_F"
      },
      "execution_count": 27,
      "outputs": []
    },
    {
      "cell_type": "code",
      "source": [
        "\n",
        "y_pred_prob = nb.predict_proba(X_test_dtm)[:, 1]\n",
        "c = make_pipeline(vect, nb)\n",
        "mystring = list(X_test)[221] #Take a string from test instance\n",
        "print(c.predict_proba([mystring])) #Prediction is a \"No\" here. i.e., not relevant\n",
        "class_names = [\"no\", \"yes\"] #not relevant, relevant\n",
        "explainer = LimeTextExplainer(class_names=class_names)\n"
      ],
      "metadata": {
        "colab": {
          "base_uri": "https://localhost:8080/"
        },
        "id": "Y_3I0s-14Pfo",
        "outputId": "5f5d5535-89f2-4fab-8a78-23d69c3a093f"
      },
      "execution_count": 28,
      "outputs": [
        {
          "output_type": "stream",
          "name": "stdout",
          "text": [
            "[[0.04609559 0.95390441]]\n"
          ]
        }
      ]
    },
    {
      "cell_type": "code",
      "source": [
        "mystring"
      ],
      "metadata": {
        "colab": {
          "base_uri": "https://localhost:8080/",
          "height": 174
        },
        "id": "jtYBDadS6hZZ",
        "outputId": "0b4c1640-26ed-4845-a25d-e0f84b1b3608"
      },
      "execution_count": 29,
      "outputs": [
        {
          "output_type": "execute_result",
          "data": {
            "text/plain": [
              "\"NEW YORK, March 19 (AP) \\x89ÛÓ The Dow Jones industrial average re treated further from the 1,000 level at the stock market turned in a mixed and erratic showing yesterday.</br></br>The trend of stock prices varied widely from one industry group to another. Oil issues sold off, but savings and loan issues were strong following the recent decline in interest rates.</br></br>Some brokerage-house issues also moved up on word of Prudential Insurance\\x89Ûªs plans to acquire Bache Group.</br></br>The Dow Jones average of 30 industrials, which had crossed 1,000 briefly early in the week, dropped 7.48 points to 986.58.</br></br>York; Exxon was down l'/a at 68; Mobil dropped 1% to 64'/t, Superior Oil 2% to 211%, and Cities Service 4% to 42%.\""
            ],
            "application/vnd.google.colaboratory.intrinsic+json": {
              "type": "string"
            }
          },
          "metadata": {},
          "execution_count": 29
        }
      ]
    },
    {
      "cell_type": "code",
      "source": [
        "exp = explainer.explain_instance(mystring, c.predict_proba, num_features=20)\n",
        "exp.as_list()"
      ],
      "metadata": {
        "colab": {
          "base_uri": "https://localhost:8080/"
        },
        "id": "gIZ4Mvra6c2Q",
        "outputId": "5beed7a0-62ab-460f-a06a-eafb86c6eab7"
      },
      "execution_count": 30,
      "outputs": [
        {
          "output_type": "execute_result",
          "data": {
            "text/plain": [
              "[('211', 0.2620884608515813),\n",
              " ('Superior', 0.172521875197716),\n",
              " ('Dow', 0.16324142791999058),\n",
              " ('dropped', 0.15730345210078123),\n",
              " ('Jones', 0.1565943540166405),\n",
              " ('Exxon', 0.15535996394124654),\n",
              " ('Bache', 0.1278324848739316),\n",
              " ('house', -0.11522430433586343),\n",
              " ('crossed', -0.11415897988091676),\n",
              " ('acquire', -0.11255624744867586),\n",
              " ('treated', -0.10793868231023014),\n",
              " ('Cities', 0.1056408635685193),\n",
              " ('briefly', 0.0964143957376415),\n",
              " ('Mobil', 0.09485197999642084),\n",
              " ('loan', -0.08865476949647456),\n",
              " ('Insurance', -0.08794724416284884),\n",
              " ('savings', -0.0793469845686132),\n",
              " ('Service', -0.07032227959221177),\n",
              " ('group', -0.06491296407451308),\n",
              " ('issues', -0.06369646529632055)]"
            ]
          },
          "metadata": {},
          "execution_count": 30
        }
      ]
    },
    {
      "cell_type": "code",
      "source": [
        "%matplotlib inline\n",
        "fig = exp.as_pyplot_figure()"
      ],
      "metadata": {
        "colab": {
          "base_uri": "https://localhost:8080/",
          "height": 452
        },
        "id": "9MBPVks44bzV",
        "outputId": "2e60d1a9-6a6d-4c52-e394-d30f3d39daad"
      },
      "execution_count": 31,
      "outputs": [
        {
          "output_type": "display_data",
          "data": {
            "text/plain": [
              "<Figure size 640x480 with 1 Axes>"
            ],
            "image/png": "[encoded data removed]"
          },
          "metadata": {}
        }
      ]
    },
    {
      "cell_type": "markdown",
      "source": [
        "## Results\n",
        "\n",
        "Solution have a 76% accuracy\n",
        "What is the precision?\n",
        "\n",
        "What is recall?\n",
        "\n",
        "What is F-1?\n",
        "\n",
        "\n",
        "F-1 For the relevant calss is quite bad, so let's make some changes."
      ],
      "metadata": {
        "id": "L6YvtDj-a4_X"
      }
    },
    {
      "cell_type": "markdown",
      "source": [
        "### Hyperparameter tuning\n",
        "\n",
        "Let's limit features of countvectorizer to... let's say 5000\n",
        "\n",
        "\n"
      ],
      "metadata": {
        "id": "oWWy63pUbi2U"
      }
    },
    {
      "cell_type": "code",
      "source": [
        "# Step 2-3: Preprocess and Vectorize train and test data\n",
        "vect = CountVectorizer(preprocessor=clean, max_features = 5000) # instantiate a vectoriezer\n",
        "X_train_dtm = vect.fit_transform(X_train)# use it to extract features from training data\n",
        "# transform testing data (using training data's features)\n",
        "X_test_dtm = vect.transform(X_test)\n",
        "print(X_train_dtm.shape, X_test_dtm.shape)\n"
      ],
      "metadata": {
        "id": "oUMd6rAHbnee",
        "colab": {
          "base_uri": "https://localhost:8080/"
        },
        "outputId": "6a89a277-b283-418d-bbb7-6300980b9208"
      },
      "execution_count": 32,
      "outputs": [
        {
          "output_type": "stream",
          "name": "stdout",
          "text": [
            "(5993, 5000) (1998, 5000)\n"
          ]
        }
      ]
    },
    {
      "cell_type": "code",
      "source": [
        "# Step 3: Train the classifier and predict for test data\n",
        "%time\n",
        "nb = MultinomialNB() # instantiate a Multinomial Naive Bayes model\n",
        "nb.fit(X_train_dtm, y_train) # train the model(timing it with an IPython \"magic command\")\n",
        "y_pred_class = nb.predict(X_test_dtm) # make class predictions for X_test_dtm"
      ],
      "metadata": {
        "id": "WECJ1uk4b2hd",
        "colab": {
          "base_uri": "https://localhost:8080/"
        },
        "outputId": "aa0987aa-89c4-4355-ef26-044f4dad0e91"
      },
      "execution_count": 33,
      "outputs": [
        {
          "output_type": "stream",
          "name": "stdout",
          "text": [
            "CPU times: user 4 µs, sys: 0 ns, total: 4 µs\n",
            "Wall time: 8.11 µs\n"
          ]
        }
      ]
    },
    {
      "cell_type": "code",
      "source": [
        "# Print accuracy:\n",
        "print(\"Accuracy: \", accuracy_score(y_test, y_pred_class))\n",
        "\n",
        "\n",
        "# print the confusion matrix\n",
        "cnf_matrix = confusion_matrix(y_test, y_pred_class)\n",
        "plt.figure(figsize=(8,6))\n",
        "plot_confusion_matrix(cnf_matrix, classes=['Not Relevant','Relevant'],normalize=True,\n",
        "                      title='Confusion matrix with all features')\n",
        "\n",
        "# calculate AUC: Area under the curve(AUC) gives idea about the model efficiency:\n",
        "# Further information: https://en.wikipedia.org/wiki/Receiver_operating_characteristic\n",
        "y_pred_prob = nb.predict_proba(X_test_dtm)[:, 1]\n",
        "print(\"ROC_AOC_Score: \", metrics.roc_auc_score(y_test, y_pred_prob))"
      ],
      "metadata": {
        "id": "47h5_C9zb2-B",
        "colab": {
          "base_uri": "https://localhost:8080/",
          "height": 652
        },
        "outputId": "768ace2e-8b7c-4140-b4e9-df7ae50e5f78"
      },
      "execution_count": 34,
      "outputs": [
        {
          "output_type": "stream",
          "name": "stdout",
          "text": [
            "Accuracy:  0.6841841841841841\n",
            "ROC_AOC_Score:  0.725041140492132\n"
          ]
        },
        {
          "output_type": "display_data",
          "data": {
            "text/plain": [
              "<Figure size 800x600 with 2 Axes>"
            ],
            "image/png": "[encoded data removed]"
          },
          "metadata": {}
        }
      ]
    },
    {
      "cell_type": "code",
      "source": [
        "print(metrics.classification_report(y_test, y_pred_class))"
      ],
      "metadata": {
        "id": "nLuJb-Orm_HR",
        "colab": {
          "base_uri": "https://localhost:8080/"
        },
        "outputId": "ca04487c-1c59-4457-d0d6-d2af9eb01645"
      },
      "execution_count": 35,
      "outputs": [
        {
          "output_type": "stream",
          "name": "stdout",
          "text": [
            "              precision    recall  f1-score   support\n",
            "\n",
            "           0       0.91      0.69      0.78      1656\n",
            "           1       0.30      0.65      0.42       342\n",
            "\n",
            "    accuracy                           0.68      1998\n",
            "   macro avg       0.61      0.67      0.60      1998\n",
            "weighted avg       0.80      0.68      0.72      1998\n",
            "\n"
          ]
        }
      ]
    },
    {
      "cell_type": "markdown",
      "source": [
        "How is the scores? Looks to be better? Can you try other parameters and see?\n",
        "\n",
        "https://scikit-learn.org/stable/modules/generated/sklearn.feature_extraction.text.CountVectorizer.html"
      ],
      "metadata": {
        "id": "osOcSxxZBInk"
      }
    },
    {
      "cell_type": "markdown",
      "source": [
        "### LogisticRegression\n",
        "\n",
        "Now with the same idea, we use Logistic Regression"
      ],
      "metadata": {
        "id": "nNP8vP2-Bf9V"
      }
    },
    {
      "cell_type": "code",
      "source": [
        "logreg = LogisticRegression(max_iter=500, class_weight='balanced') # instantiate a logistic regression model, class weight balanced is to address class imbalance\n",
        "logreg.fit(X_train_dtm, y_train) # fit the model with training data\n",
        "\n",
        "# Make predictions on test data\n",
        "%time\n",
        "y_pred_class = logreg.predict(X_test_dtm)\n",
        "\n",
        "# calculate evaluation measures:\n",
        "print(\"Accuracy: \", accuracy_score(y_test, y_pred_class))\n",
        "print(\"AUC: \", metrics.roc_auc_score(y_test, y_pred_prob))\n",
        "cnf_matrix = confusion_matrix(y_test, y_pred_class)\n",
        "plt.figure(figsize=(8,6))\n",
        "plot_confusion_matrix(cnf_matrix, classes=['Not Relevant','Relevant'],normalize=True,\n",
        "                      title='Confusion matrix with normalization')"
      ],
      "metadata": {
        "id": "1AT90jW8BnFT",
        "colab": {
          "base_uri": "https://localhost:8080/",
          "height": 695
        },
        "outputId": "5c80d3e5-25cc-43b9-e8ac-74aba4f249d2"
      },
      "execution_count": 36,
      "outputs": [
        {
          "output_type": "stream",
          "name": "stdout",
          "text": [
            "CPU times: user 4 µs, sys: 0 ns, total: 4 µs\n",
            "Wall time: 10.7 µs\n",
            "Accuracy:  0.7382382382382382\n",
            "AUC:  0.725041140492132\n"
          ]
        },
        {
          "output_type": "display_data",
          "data": {
            "text/plain": [
              "<Figure size 800x600 with 2 Axes>"
            ],
            "image/png": "[encoded data removed]"
          },
          "metadata": {}
        }
      ]
    },
    {
      "cell_type": "code",
      "source": [
        "print(metrics.classification_report(y_test, y_pred_class))"
      ],
      "metadata": {
        "id": "bF1LNYKnCJI5",
        "colab": {
          "base_uri": "https://localhost:8080/"
        },
        "outputId": "126c0c80-fadf-4cca-87fc-58ab095d258e"
      },
      "execution_count": 37,
      "outputs": [
        {
          "output_type": "stream",
          "name": "stdout",
          "text": [
            "              precision    recall  f1-score   support\n",
            "\n",
            "           0       0.86      0.82      0.84      1656\n",
            "           1       0.28      0.34      0.31       342\n",
            "\n",
            "    accuracy                           0.74      1998\n",
            "   macro avg       0.57      0.58      0.57      1998\n",
            "weighted avg       0.76      0.74      0.75      1998\n",
            "\n"
          ]
        }
      ]
    },
    {
      "cell_type": "markdown",
      "source": [
        "How is the scores? Looks to be better? Can you try other parameters and see?\n",
        "https://scikit-learn.org/stable/modules/generated/sklearn.linear_model.LogisticRegression.html#sklearn.linear_model.LogisticRegression"
      ],
      "metadata": {
        "id": "fIUJ4eayCGGR"
      }
    },
    {
      "cell_type": "markdown",
      "source": [
        "### Support Vector Machine\n",
        "Same pipeline, different models.\n",
        "This time we will use support vector machine"
      ],
      "metadata": {
        "id": "USUJr5aECxxX"
      }
    },
    {
      "cell_type": "code",
      "source": [
        "#vect = CountVectorizer(preprocessor=clean, max_features=5000) # Step-1\n",
        "#X_train_dtm = vect.fit_transform(X_train) # combined step 2 and 3\n",
        "#X_test_dtm = vect.transform(X_test)\n",
        "\n",
        "classifier = LinearSVC(class_weight='balanced', max_iter = 5000) # instantiate a Support vector machine\n",
        "classifier.fit(X_train_dtm, y_train) # fit the model with training data\n",
        "\n",
        "%time\n",
        "# Make predictions on test data\n",
        "y_pred_class = classifier.predict(X_test_dtm)\n"
      ],
      "metadata": {
        "colab": {
          "base_uri": "https://localhost:8080/"
        },
        "id": "tCqC1WqdBw0R",
        "outputId": "0541ac30-157a-4add-be2c-194456499d0b"
      },
      "execution_count": 38,
      "outputs": [
        {
          "output_type": "stream",
          "name": "stdout",
          "text": [
            "CPU times: user 6 µs, sys: 0 ns, total: 6 µs\n",
            "Wall time: 11.9 µs\n"
          ]
        }
      ]
    },
    {
      "cell_type": "code",
      "source": [
        "print(\"Accuracy: \", accuracy_score(y_test, y_pred_class))\n",
        "print(\"AUC: \", metrics.roc_auc_score(y_test, y_pred_prob))\n",
        "cnf_matrix = confusion_matrix(y_test, y_pred_class)\n",
        "plt.figure(figsize=(8,6))\n",
        "plot_confusion_matrix(cnf_matrix, classes=['Not Relevant','Relevant'],normalize=True,\n",
        "                      title='Confusion matrix with normalization')"
      ],
      "metadata": {
        "id": "lYvsQAdQDKyh",
        "colab": {
          "base_uri": "https://localhost:8080/",
          "height": 660
        },
        "outputId": "6aa34c82-8e8f-449d-c4ef-f909062d7754"
      },
      "execution_count": 39,
      "outputs": [
        {
          "output_type": "stream",
          "name": "stdout",
          "text": [
            "Accuracy:  0.7342342342342343\n",
            "AUC:  0.725041140492132\n"
          ]
        },
        {
          "output_type": "display_data",
          "data": {
            "text/plain": [
              "<Figure size 800x600 with 2 Axes>"
            ],
            "image/png": "[encoded data removed]"
          },
          "metadata": {}
        }
      ]
    },
    {
      "cell_type": "code",
      "source": [
        "print(metrics.classification_report(y_test, y_pred_class))"
      ],
      "metadata": {
        "id": "fZvAtSF4DNlT",
        "colab": {
          "base_uri": "https://localhost:8080/"
        },
        "outputId": "fe2a993e-a8de-4f95-dedb-29a7807c5e81"
      },
      "execution_count": 40,
      "outputs": [
        {
          "output_type": "stream",
          "name": "stdout",
          "text": [
            "              precision    recall  f1-score   support\n",
            "\n",
            "           0       0.85      0.83      0.84      1656\n",
            "           1       0.25      0.28      0.27       342\n",
            "\n",
            "    accuracy                           0.73      1998\n",
            "   macro avg       0.55      0.56      0.55      1998\n",
            "weighted avg       0.75      0.73      0.74      1998\n",
            "\n"
          ]
        }
      ]
    },
    {
      "cell_type": "markdown",
      "source": [
        "How is the scores? Looks to be better? Can you try other parameters and see?\n",
        "\n",
        "https://scikit-learn.org/stable/modules/generated/sklearn.svm.LinearSVC.html?highlight=sklearn+svm+linearsvc#sklearn.svm.LinearSVC\n",
        "\n",
        "Ultimately, which one would you choose?"
      ],
      "metadata": {
        "id": "KbqJ70kFDaHE"
      }
    },
    {
      "cell_type": "markdown",
      "source": [
        "What other models you want to try? Look at SKlean Supvervised Learning\n",
        "https://scikit-learn.org/stable/supervised_learning.html\n",
        "\n",
        "There are two types of models, classification or regression. Choose the classification one. Theoretically\n",
        "\n",
        "https://scikit-learn.org/stable/tutorial/machine_learning_map/index.html"
      ],
      "metadata": {
        "id": "YaqX54NLsI-Q"
      }
    },
    {
      "cell_type": "code",
      "source": [
        "myclass = LogisticRegression(max_iter=500, class_weight=\"balanced\") #because classes are not balanced.\n",
        "myclass.fit(X_train_dtm, y_train)\n",
        "\n",
        "y_pred_class = myclass.predict(X_test_dtm)\n",
        "from sklearn.metrics import classification_report, confusion_matrix\n",
        "print(classification_report(y_test, y_pred_class))"
      ],
      "metadata": {
        "id": "QkgdaPEP2jfY",
        "colab": {
          "base_uri": "https://localhost:8080/"
        },
        "outputId": "1cee6f85-bd10-477d-979a-eb2134f94fbb"
      },
      "execution_count": 41,
      "outputs": [
        {
          "output_type": "stream",
          "name": "stdout",
          "text": [
            "              precision    recall  f1-score   support\n",
            "\n",
            "           0       0.86      0.82      0.84      1656\n",
            "           1       0.28      0.34      0.31       342\n",
            "\n",
            "    accuracy                           0.74      1998\n",
            "   macro avg       0.57      0.58      0.57      1998\n",
            "weighted avg       0.76      0.74      0.75      1998\n",
            "\n"
          ]
        }
      ]
    },
    {
      "cell_type": "code",
      "source": [
        "\n",
        "\n",
        "import tensorflow as tf\n",
        "from tensorflow import keras\n",
        "from tensorflow.keras.preprocessing.text import Tokenizer\n",
        "from tensorflow.keras.preprocessing.sequence import pad_sequences\n",
        "from sklearn.model_selection import train_test_split\n",
        "\n",
        "# Assuming 'df' and 'clean' function are defined as in the provided code\n",
        "X = df[\"text\"]\n",
        "y = df[\"relevance\"]\n",
        "X_train, X_test, y_train, y_test = train_test_split(X, y, test_size=0.2, random_state=42)\n",
        "\n",
        "# Tokenize the text data\n",
        "vocab_size = 10000  # Adjust as needed\n",
        "oov_token = \"<OOV>\"\n",
        "tokenizer = Tokenizer(num_words=vocab_size, oov_token=oov_token)\n",
        "tokenizer.fit_on_texts(X_train)\n",
        "\n",
        "# Convert text to sequences\n",
        "train_sequences = tokenizer.texts_to_sequences(X_train)\n",
        "test_sequences = tokenizer.texts_to_sequences(X_test)\n",
        "\n",
        "# Pad the sequences\n",
        "max_length = 100 # Adjust as needed\n",
        "train_padded = pad_sequences(train_sequences, maxlen=max_length, padding='post', truncating='post')\n",
        "test_padded = pad_sequences(test_sequences, maxlen=max_length, padding='post', truncating='post')\n",
        "\n",
        "\n",
        "# Define the neural network model\n",
        "model = keras.Sequential([\n",
        "    keras.layers.Embedding(input_dim = vocab_size, output_dim= 16, input_length=max_length),\n",
        "    keras.layers.GlobalAveragePooling1D(),\n",
        "    keras.layers.Dense(4, activation='relu'),\n",
        "    keras.layers.Dense(8, activation='relu'),\n",
        "    keras.layers.Dense(1, activation='sigmoid')\n",
        "])\n",
        "\n",
        "\"\"\"\n",
        "keras.layers.Embedding(input_dim = vocab_size, output_dim= 16, input_length=max_length):\n",
        "input_dimension: the maximum vocabulary the network will take\n",
        "output_dimension: the size of the vector space in which words will be embedded (64-dimension vector as the embedding)\n",
        "input_length: length of input sequences, ensure all the inputs have the same length.\n",
        "   model can handle up to max length in a sequence(each X /y). Less than max lenght: it will be padded\n",
        "\n",
        "\n",
        "keras.layers.GlobalAveragePooling1D(): average all word embeddings to make 1 64-dimensional word vector for each sequence (each X /y)\n",
        "\n",
        "model.add(Dense(4, activation='relu')): first hidden layer, 4 neurons, relu activation\n",
        "model.add(Dense(8, activation='relu')): second hidden layer, 8 neurons, relu activation\n",
        "model.add(Dense(1, activation='sigmoid')): output layer, 1 neuron, sigmoid activation\n",
        "\"\"\"\n",
        "\n",
        "# Compile the model\n",
        "model.compile(loss='binary_crossentropy', optimizer='adam', metrics=['accuracy'])\n",
        "\n",
        "# Train the model\n",
        "num_epochs = 5 # Adjust as needed\n",
        "history = model.fit(train_padded, y_train, epochs=num_epochs, validation_data=(test_padded, y_test))\n",
        "\n",
        "# Evaluate the model\n",
        "loss, accuracy = model.evaluate(test_padded, y_test)\n",
        "print(f\"Loss: {loss}\")\n",
        "print(f\"Accuracy: {accuracy}\")\n"
      ],
      "metadata": {
        "colab": {
          "base_uri": "https://localhost:8080/"
        },
        "id": "IhZK0paZ-RA_",
        "outputId": "af8a457c-86da-4fbf-f6ac-903503215163"
      },
      "execution_count": 44,
      "outputs": [
        {
          "output_type": "stream",
          "name": "stderr",
          "text": [
            "/usr/local/lib/python3.11/dist-packages/keras/src/layers/core/embedding.py:90: UserWarning: Argument `input_length` is deprecated. Just remove it.\n",
            "  warnings.warn(\n"
          ]
        },
        {
          "output_type": "stream",
          "name": "stdout",
          "text": [
            "Epoch 1/5\n",
            "\u001b[1m200/200\u001b[0m \u001b[32m━━━━━━━━━━━━━━━━━━━━\u001b[0m\u001b[37m\u001b[0m \u001b[1m4s\u001b[0m 7ms/step - accuracy: 0.8274 - loss: 0.6468 - val_accuracy: 0.8143 - val_loss: 0.5281\n",
            "Epoch 2/5\n",
            "\u001b[1m200/200\u001b[0m \u001b[32m━━━━━━━━━━━━━━━━━━━━\u001b[0m\u001b[37m\u001b[0m \u001b[1m1s\u001b[0m 6ms/step - accuracy: 0.8263 - loss: 0.4966 - val_accuracy: 0.8143 - val_loss: 0.4563\n",
            "Epoch 3/5\n",
            "\u001b[1m200/200\u001b[0m \u001b[32m━━━━━━━━━━━━━━━━━━━━\u001b[0m\u001b[37m\u001b[0m \u001b[1m1s\u001b[0m 6ms/step - accuracy: 0.8287 - loss: 0.4208 - val_accuracy: 0.8143 - val_loss: 0.4242\n",
            "Epoch 4/5\n",
            "\u001b[1m200/200\u001b[0m \u001b[32m━━━━━━━━━━━━━━━━━━━━\u001b[0m\u001b[37m\u001b[0m \u001b[1m1s\u001b[0m 5ms/step - accuracy: 0.8242 - loss: 0.3833 - val_accuracy: 0.8118 - val_loss: 0.4242\n",
            "Epoch 5/5\n",
            "\u001b[1m200/200\u001b[0m \u001b[32m━━━━━━━━━━━━━━━━━━━━\u001b[0m\u001b[37m\u001b[0m \u001b[1m1s\u001b[0m 6ms/step - accuracy: 0.8492 - loss: 0.3365 - val_accuracy: 0.8118 - val_loss: 0.4329\n",
            "\u001b[1m50/50\u001b[0m \u001b[32m━━━━━━━━━━━━━━━━━━━━\u001b[0m\u001b[37m\u001b[0m \u001b[1m0s\u001b[0m 3ms/step - accuracy: 0.8202 - loss: 0.4212\n",
            "Loss: 0.43289709091186523\n",
            "Accuracy: 0.8117573261260986\n"
          ]
        }
      ]
    },
    {
      "cell_type": "markdown",
      "source": [],
      "metadata": {
        "id": "h_O2M3_8-Qf9"
      }
    },
    {
      "cell_type": "code",
      "source": [
        "# prompt: create a code to train with LSTM\n",
        "\n",
        "# Assuming 'df' and 'clean' function are defined as in the provided code\n",
        "X = df[\"text\"]\n",
        "y = df[\"relevance\"]\n",
        "X_train, X_test, y_train, y_test = train_test_split(X, y, test_size=0.2, random_state=42)\n",
        "\n",
        "# Tokenize the text data\n",
        "vocab_size = 10000  # Adjust as needed\n",
        "oov_token = \"<OOV>\"\n",
        "tokenizer = Tokenizer(num_words=vocab_size, oov_token=oov_token)\n",
        "tokenizer.fit_on_texts(X_train)\n",
        "\n",
        "# Convert text to sequences\n",
        "train_sequences = tokenizer.texts_to_sequences(X_train)\n",
        "test_sequences = tokenizer.texts_to_sequences(X_test)\n",
        "\n",
        "# Pad the sequences\n",
        "max_length = 100 # Adjust as needed\n",
        "train_padded = pad_sequences(train_sequences, maxlen=max_length, padding='post', truncating='post')\n",
        "test_padded = pad_sequences(test_sequences, maxlen=max_length, padding='post', truncating='post')\n",
        "\n",
        "\n",
        "# Define the neural network model\n",
        "model = keras.Sequential([\n",
        "    keras.layers.Embedding(input_dim = vocab_size, output_dim= 16, input_length=max_length),\n",
        "    keras.layers.LSTM(64, return_sequences=True),\n",
        "    keras.layers.Dropout(0.2),\n",
        "    keras.layers.LSTM(128, return_sequences=False),\n",
        "    keras.layers.Dense(1, activation='sigmoid')\n",
        "])\n",
        "\n",
        "\"\"\"\n",
        "    keras.layers.LSTM(64, return_sequences=True): first LSTM layer with 64 neurons, Returns the full sequence (return_sequences=True) to feed into the next LSTM layer.\n",
        "    keras.layers.Dropout(0.2) :  Helps to prevent overfitting by randomly setting a fraction of input units to 0 at each update during training time.\n",
        "    keras.layers.LSTM(128, return_sequences=False): second LSTM layer with 128 layers, Returns only the output of the last time step.\n",
        "    keras.layers.Dense(1, activation='sigmoid'): final output layer with 1 neuron and sigmoid activation.\n",
        "\n",
        "\n",
        "\"\"\"\n",
        "\n",
        "# Compile the model\n",
        "model.compile(loss='binary_crossentropy', optimizer='adam', metrics=['accuracy'])\n",
        "\n",
        "# Train the model\n",
        "num_epochs = 5 # Adjust as needed\n",
        "history = model.fit(train_padded, y_train, epochs=num_epochs, validation_data=(test_padded, y_test))\n",
        "\n",
        "# Evaluate the model\n",
        "loss, accuracy = model.evaluate(test_padded, y_test)\n",
        "print(f\"Loss: {loss}\")\n",
        "print(f\"Accuracy: {accuracy}\")\n"
      ],
      "metadata": {
        "colab": {
          "base_uri": "https://localhost:8080/"
        },
        "id": "trz_fLXiA94k",
        "outputId": "77f69547-2bc9-4c56-a99d-8e15de8da640"
      },
      "execution_count": 48,
      "outputs": [
        {
          "output_type": "stream",
          "name": "stdout",
          "text": [
            "Epoch 1/5\n"
          ]
        },
        {
          "output_type": "stream",
          "name": "stderr",
          "text": [
            "/usr/local/lib/python3.11/dist-packages/keras/src/layers/core/embedding.py:90: UserWarning: Argument `input_length` is deprecated. Just remove it.\n",
            "  warnings.warn(\n"
          ]
        },
        {
          "output_type": "stream",
          "name": "stdout",
          "text": [
            "\u001b[1m200/200\u001b[0m \u001b[32m━━━━━━━━━━━━━━━━━━━━\u001b[0m\u001b[37m\u001b[0m \u001b[1m67s\u001b[0m 309ms/step - accuracy: 0.8216 - loss: 0.5078 - val_accuracy: 0.8168 - val_loss: 0.4514\n",
            "Epoch 2/5\n",
            "\u001b[1m200/200\u001b[0m \u001b[32m━━━━━━━━━━━━━━━━━━━━\u001b[0m\u001b[37m\u001b[0m \u001b[1m74s\u001b[0m 271ms/step - accuracy: 0.8421 - loss: 0.3682 - val_accuracy: 0.8068 - val_loss: 0.4688\n",
            "Epoch 3/5\n",
            "\u001b[1m200/200\u001b[0m \u001b[32m━━━━━━━━━━━━━━━━━━━━\u001b[0m\u001b[37m\u001b[0m \u001b[1m57s\u001b[0m 285ms/step - accuracy: 0.8934 - loss: 0.2521 - val_accuracy: 0.7761 - val_loss: 0.5787\n",
            "Epoch 4/5\n",
            "\u001b[1m200/200\u001b[0m \u001b[32m━━━━━━━━━━━━━━━━━━━━\u001b[0m\u001b[37m\u001b[0m \u001b[1m87s\u001b[0m 310ms/step - accuracy: 0.9463 - loss: 0.1501 - val_accuracy: 0.7655 - val_loss: 0.8214\n",
            "Epoch 5/5\n",
            "\u001b[1m200/200\u001b[0m \u001b[32m━━━━━━━━━━━━━━━━━━━━\u001b[0m\u001b[37m\u001b[0m \u001b[1m67s\u001b[0m 237ms/step - accuracy: 0.9675 - loss: 0.0898 - val_accuracy: 0.7511 - val_loss: 0.8998\n",
            "\u001b[1m50/50\u001b[0m \u001b[32m━━━━━━━━━━━━━━━━━━━━\u001b[0m\u001b[37m\u001b[0m \u001b[1m5s\u001b[0m 93ms/step - accuracy: 0.7595 - loss: 0.8621\n",
            "Loss: 0.8998136520385742\n",
            "Accuracy: 0.7510944604873657\n"
          ]
        }
      ]
    }
  ]
}