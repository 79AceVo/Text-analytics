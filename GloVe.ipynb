{
  "nbformat": 4,
  "nbformat_minor": 0,
  "metadata": {
    "colab": {
      "provenance": [],
      "include_colab_link": true
    },
    "kernelspec": {
      "name": "python3",
      "display_name": "Python 3"
    },
    "language_info": {
      "name": "python"
    }
  },
  "cells": [
    {
      "cell_type": "markdown",
      "metadata": {
        "id": "view-in-github",
        "colab_type": "text"
      },
      "source": [
        "<a href=\"https://colab.research.google.com/github/79AceVo/Text-analytics/blob/main/GloVe.ipynb\" target=\"_parent\"><img src=\"https://colab.research.google.com/assets/colab-badge.svg\" alt=\"Open In Colab\"/></a>"
      ]
    },
    {
      "cell_type": "markdown",
      "source": [
        "# Word Embeddings using Glove."
      ],
      "metadata": {
        "id": "S6wSNNWEtn8p"
      }
    },
    {
      "cell_type": "code",
      "source": [
        "import gensim.downloader as gen_api"
      ],
      "metadata": {
        "id": "siTp_wObnj3P"
      },
      "execution_count": null,
      "outputs": []
    },
    {
      "cell_type": "code",
      "source": [
        "#let's load GloVe twitter 50. 199MB. See the difference?\n",
        "glove50 = gen_api.load ('glove-twitter-50')"
      ],
      "metadata": {
        "colab": {
          "base_uri": "https://localhost:8080/"
        },
        "id": "RIKASO6YpQS8",
        "outputId": "3e4c3aa9-92ac-4b23-9b02-8db33cda155b"
      },
      "execution_count": null,
      "outputs": [
        {
          "output_type": "stream",
          "name": "stdout",
          "text": [
            "[==================================================] 100.0% 199.5/199.5MB downloaded\n"
          ]
        }
      ]
    },
    {
      "cell_type": "markdown",
      "source": [
        "After loading, let's see how they represent texts"
      ],
      "metadata": {
        "id": "rr31Msi6r3dS"
      }
    },
    {
      "cell_type": "code",
      "source": [
        "glove50.most_similar(\"coffee\")"
      ],
      "metadata": {
        "id": "krELmvE6rw0Z",
        "colab": {
          "base_uri": "https://localhost:8080/"
        },
        "outputId": "1919e74b-fd4b-4c21-884f-58a959c6f89b"
      },
      "execution_count": null,
      "outputs": [
        {
          "output_type": "execute_result",
          "data": {
            "text/plain": [
              "[('wine', 0.8931152820587158),\n",
              " ('tea', 0.8929038047790527),\n",
              " ('beer', 0.8627298474311829),\n",
              " ('milk', 0.8571690320968628),\n",
              " ('food', 0.8504895567893982),\n",
              " ('cream', 0.8403508067131042),\n",
              " ('juice', 0.8394535779953003),\n",
              " ('drink', 0.8388454914093018),\n",
              " ('breakfast', 0.8385711312294006),\n",
              " ('ice', 0.8367859721183777)]"
            ]
          },
          "metadata": {},
          "execution_count": 8
        }
      ]
    },
    {
      "cell_type": "code",
      "source": [
        "glove50.distance(\"coffee\",\"cream\") #similar things should be closer"
      ],
      "metadata": {
        "id": "tzUAnbWjrwpy",
        "colab": {
          "base_uri": "https://localhost:8080/"
        },
        "outputId": "36d87771-2618-4181-e184-919268db0b6a"
      },
      "execution_count": null,
      "outputs": [
        {
          "output_type": "execute_result",
          "data": {
            "text/plain": [
              "0.15964919328689575"
            ]
          },
          "metadata": {},
          "execution_count": 9
        }
      ]
    },
    {
      "cell_type": "code",
      "source": [
        "glove50.distance(\"coffee\",\"basketball\") #diferrent things should be farther"
      ],
      "metadata": {
        "id": "ip-fBcLMr90R",
        "colab": {
          "base_uri": "https://localhost:8080/"
        },
        "outputId": "3f701d97-f013-460f-bdaa-b0e765318b90"
      },
      "execution_count": null,
      "outputs": [
        {
          "output_type": "execute_result",
          "data": {
            "text/plain": [
              "0.5631620287895203"
            ]
          },
          "metadata": {},
          "execution_count": 10
        }
      ]
    },
    {
      "cell_type": "code",
      "source": [
        "#wanna try king - man + woman?\n",
        "glove50.most_similar_cosmul(positive=['king','woman'], negative=['men']) #function on the most word that has similar cosine similarity, a similarity metric"
      ],
      "metadata": {
        "id": "ei2O4NiasID1",
        "colab": {
          "base_uri": "https://localhost:8080/"
        },
        "outputId": "d41e3b2b-0d32-46cf-a2e3-db3ce2ee6111"
      },
      "execution_count": null,
      "outputs": [
        {
          "output_type": "execute_result",
          "data": {
            "text/plain": [
              "[('meets', 1.0599331855773926),\n",
              " ('father', 1.053424596786499),\n",
              " ('prince', 1.0525329113006592),\n",
              " ('mother', 1.0462831258773804),\n",
              " ('wendy', 1.0428236722946167),\n",
              " ('trump', 1.036962866783142),\n",
              " ('godfather', 1.035771369934082),\n",
              " ('fortune', 1.0330004692077637),\n",
              " ('daughter', 1.0299949645996094),\n",
              " ('called', 1.0274372100830078)]"
            ]
          },
          "metadata": {},
          "execution_count": 11
        }
      ]
    },
    {
      "cell_type": "code",
      "source": [
        "#guess this one first before you run\n",
        "glove50.most_similar_cosmul(positive=['restaurant','cocktail'], negative=['dinner']) #function on the most word that has similar cosine similarity, a similarity metric"
      ],
      "metadata": {
        "id": "rnW5rWPIsxLe",
        "colab": {
          "base_uri": "https://localhost:8080/"
        },
        "outputId": "e6a1ddb8-23e1-4b3d-d166-90da8c5aba63"
      },
      "execution_count": null,
      "outputs": [
        {
          "output_type": "execute_result",
          "data": {
            "text/plain": [
              "[('parasol', 0.9831569790840149),\n",
              " ('espresso', 0.9750884175300598),\n",
              " ('brewery', 0.972892701625824),\n",
              " ('luxe', 0.971336305141449),\n",
              " ('textile', 0.965752899646759),\n",
              " ('imperial', 0.9617224931716919),\n",
              " ('lager', 0.9591490626335144),\n",
              " ('coworking', 0.9539803266525269),\n",
              " ('barbecue', 0.9530752301216125),\n",
              " ('bloc', 0.9460505247116089)]"
            ]
          },
          "metadata": {},
          "execution_count": 12
        }
      ]
    }
  ]
}